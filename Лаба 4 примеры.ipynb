{
 "cells": [
  {
   "cell_type": "markdown",
   "id": "38b21e80-aa52-4186-83c0-5957733b3770",
   "metadata": {},
   "source": [
    "1. Создание Series"
   ]
  },
  {
   "cell_type": "markdown",
   "id": "86431872-c1c5-4dac-a2e8-eb51556c8bf7",
   "metadata": {},
   "source": [
    "1.1. Импортируем нужные библиотеки."
   ]
  },
  {
   "cell_type": "code",
   "execution_count": null,
   "id": "77df0dde-5ab5-45c5-ad1c-26cc611b4405",
   "metadata": {},
   "outputs": [],
   "source": [
    "import numpy as np\n",
    "import pandas as pd"
   ]
  },
  {
   "cell_type": "markdown",
   "id": "b4be02c4-99ac-4aea-84ff-4fbf929756a1",
   "metadata": {},
   "source": [
    "1.2. Самый простой способ создать Series – это передать в качестве единственного параметра в конструктор класса список Python."
   ]
  },
  {
   "cell_type": "code",
   "execution_count": null,
   "id": "e9be287b-7c8d-4192-b761-8d29def0ae8e",
   "metadata": {},
   "outputs": [],
   "source": [
    "s1 = pd.Series([1, 2, 3, 4, 5])\n",
    "print(s1)"
   ]
  },
  {
   "cell_type": "markdown",
   "id": "83e89c35-cb5d-405b-a3b4-c34c349c3db7",
   "metadata": {},
   "source": [
    "1.3."
   ]
  },
  {
   "cell_type": "code",
   "execution_count": 6,
   "id": "6c5d1520-d7db-4962-bf62-77118e152387",
   "metadata": {},
   "outputs": [
    {
     "name": "stdout",
     "output_type": "stream",
     "text": [
      "a    1\n",
      "b    2\n",
      "c    3\n",
      "d    4\n",
      "e    5\n",
      "dtype: int64\n"
     ]
    }
   ],
   "source": [
    "s2 = pd.Series([1, 2, 3, 4, 5], ['a', 'b', 'c', 'd', 'e'])\n",
    "print(s2)"
   ]
  },
  {
   "cell_type": "markdown",
   "id": "ac53e14b-4e49-4b44-a69f-dd5d05176cde",
   "metadata": {},
   "source": [
    "2. Создание Series из ndarray массива из Numpy."
   ]
  },
  {
   "cell_type": "markdown",
   "id": "8958fe4d-89d4-4903-8748-b03a120fb910",
   "metadata": {},
   "source": [
    "2.1 Создадим простой массив из пяти чисел."
   ]
  },
  {
   "cell_type": "code",
   "execution_count": 171,
   "id": "c934a219-7e8f-42c2-978b-ab3c895919ae",
   "metadata": {},
   "outputs": [
    {
     "data": {
      "text/plain": [
       "numpy.ndarray"
      ]
     },
     "execution_count": 171,
     "metadata": {},
     "output_type": "execute_result"
    }
   ],
   "source": [
    "ndarr = np.array([1, 2, 3, 4, 5])\n",
    "type(ndarr)"
   ]
  },
  {
   "cell_type": "markdown",
   "id": "838102c0-dcb2-40da-98e2-be1b4752aba5",
   "metadata": {},
   "source": [
    "2.2. Создадим Series с буквенными метками."
   ]
  },
  {
   "cell_type": "code",
   "execution_count": 173,
   "id": "56abd281-4023-459e-82b1-bfc41e0666b5",
   "metadata": {},
   "outputs": [
    {
     "name": "stdout",
     "output_type": "stream",
     "text": [
      "a    1\n",
      "b    2\n",
      "c    3\n",
      "d    4\n",
      "e    5\n",
      "dtype: int32\n"
     ]
    }
   ],
   "source": [
    "s3 = pd.Series(ndarr, ['a', 'b', 'c', 'd', 'e'])\n",
    "print(s3)"
   ]
  },
  {
   "cell_type": "markdown",
   "id": "5cb99449-e1ca-49e4-a9aa-c988425224a9",
   "metadata": {},
   "source": [
    "3. Создадим Series из словаря (dict)."
   ]
  },
  {
   "cell_type": "code",
   "execution_count": 18,
   "id": "f1680594-eac9-4ac9-b5a7-1b9cd6295c95",
   "metadata": {},
   "outputs": [
    {
     "name": "stdout",
     "output_type": "stream",
     "text": [
      "a    1\n",
      "b    2\n",
      "c    3\n",
      "dtype: int64\n"
     ]
    }
   ],
   "source": [
    "d = {'a':1, 'b':2, 'c':3}\n",
    "s4 = pd.Series(d)\n",
    "print(s4)"
   ]
  },
  {
   "cell_type": "markdown",
   "id": "f9e59fbb-6c53-4c90-8b89-00b75ae83956",
   "metadata": {},
   "source": [
    "4. Создание Series с использованием константы. "
   ]
  },
  {
   "cell_type": "code",
   "execution_count": 21,
   "id": "96f89bea-08d1-4a5b-8245-674a73d81c0c",
   "metadata": {},
   "outputs": [
    {
     "name": "stdout",
     "output_type": "stream",
     "text": [
      "a    7\n",
      "b    7\n",
      "c    7\n",
      "dtype: int64\n"
     ]
    }
   ],
   "source": [
    "a=7\n",
    "s5 = pd.Series(a, ['a', 'b', 'c'])\n",
    "print(s5)"
   ]
  },
  {
   "cell_type": "markdown",
   "id": "ccc29425-e756-498c-b4b6-016cca622306",
   "metadata": {},
   "source": [
    "5. Работа с элементами Series."
   ]
  },
  {
   "cell_type": "markdown",
   "id": "64913659-5759-4d07-a0d3-cb687f5c098f",
   "metadata": {},
   "source": [
    "5.1. обращение к элементам Series по численному индексу."
   ]
  },
  {
   "cell_type": "code",
   "execution_count": 190,
   "id": "06282d9b-c558-429d-be06-e1ccbc118c89",
   "metadata": {},
   "outputs": [
    {
     "name": "stdout",
     "output_type": "stream",
     "text": [
      "3\n",
      "4\n",
      "a    1\n",
      "b    2\n",
      "dtype: int64\n",
      "a    1\n",
      "b    2\n",
      "c    3\n",
      "dtype: int64\n"
     ]
    },
    {
     "name": "stderr",
     "output_type": "stream",
     "text": [
      "C:\\Users\\User\\AppData\\Local\\Temp\\ipykernel_19188\\3822981573.py:2: FutureWarning: Series.__getitem__ treating keys as positions is deprecated. In a future version, integer keys will always be treated as labels (consistent with DataFrame behavior). To access a value by position, use `ser.iloc[pos]`\n",
      "  print(s6[2])\n"
     ]
    }
   ],
   "source": [
    "s6 = pd.Series([1, 2, 3, 4, 5], ['a', 'b', 'c', 'd', 'e'])\n",
    "print(s6[2])\n",
    "print(s6['d'])\n",
    "print(s6[:2])\n",
    "print(s6[s6 <= 3])"
   ]
  },
  {
   "cell_type": "markdown",
   "id": "6c484bc3-4a4a-42cc-ba0c-92364c997575",
   "metadata": {},
   "source": [
    "5.2. Со структурами Series можно работать как с векторами: складывать, умножать вектор на число и т.п."
   ]
  },
  {
   "cell_type": "code",
   "execution_count": 28,
   "id": "89742748-e3c7-4cd1-9eec-d3dde6f1c9d4",
   "metadata": {},
   "outputs": [
    {
     "name": "stdout",
     "output_type": "stream",
     "text": [
      "a    11\n",
      "b    22\n",
      "c    33\n",
      "d    44\n",
      "e    55\n",
      "dtype: int64\n",
      "a     3\n",
      "b     6\n",
      "c     9\n",
      "d    12\n",
      "e    15\n",
      "dtype: int64\n"
     ]
    }
   ],
   "source": [
    "s7 = pd.Series([10, 20, 30, 40, 50], ['a', 'b', 'c', 'd','e'])\n",
    "print(s6 + s7)\n",
    "print(s6 * 3)"
   ]
  },
  {
   "cell_type": "markdown",
   "id": "1fa74a71-0479-4e44-935f-8840ae7f2f72",
   "metadata": {},
   "source": [
    "6. Позиционная индексация (iloc)."
   ]
  },
  {
   "cell_type": "code",
   "execution_count": 31,
   "id": "836b01f6-7ace-4aed-8437-b12178004116",
   "metadata": {},
   "outputs": [
    {
     "name": "stdout",
     "output_type": "stream",
     "text": [
      "10\n",
      "30\n",
      "50\n"
     ]
    }
   ],
   "source": [
    "import pandas as pd\n",
    "s = pd.Series([10, 20, 30, 40, 50], index=['a', 'b', 'c', 'd', 'e'])\n",
    "print(s.iloc[0])\n",
    "print(s.iloc[2])\n",
    "print(s.iloc[-1])"
   ]
  },
  {
   "cell_type": "markdown",
   "id": "2cff9540-1193-4793-ad90-4323aafc237c",
   "metadata": {},
   "source": [
    "7. Меточная индексация (loc)."
   ]
  },
  {
   "cell_type": "code",
   "execution_count": 34,
   "id": "98897b13-32fa-4aad-8cb8-bfcf337dc2a1",
   "metadata": {},
   "outputs": [
    {
     "name": "stdout",
     "output_type": "stream",
     "text": [
      "10\n",
      "30\n",
      "50\n"
     ]
    }
   ],
   "source": [
    "print(s.loc['a'])\n",
    "print(s.loc['c'])\n",
    "print(s.loc['e'])"
   ]
  },
  {
   "cell_type": "markdown",
   "id": "8460c08c-76c3-4596-8be5-25ab427f178b",
   "metadata": {},
   "source": [
    "8. Разница в срезах (iloc vs loc).\n",
    "\n",
    "iloc[start:stop] – **крайний индекс не включается**, как в стандартных\n",
    "срезах Python.\n",
    "\n",
    "loc[start:stop] – **крайний индекс включается** в выборку."
   ]
  },
  {
   "cell_type": "code",
   "execution_count": 37,
   "id": "856bd600-3c76-4a60-abe3-4c49664c8bb5",
   "metadata": {},
   "outputs": [
    {
     "name": "stdout",
     "output_type": "stream",
     "text": [
      "b    20\n",
      "c    30\n",
      "dtype: int64\n",
      "b    20\n",
      "c    30\n",
      "d    40\n",
      "dtype: int64\n"
     ]
    }
   ],
   "source": [
    "print(s.iloc[1:3])\n",
    "print(s.loc['b':'d'])"
   ]
  },
  {
   "cell_type": "markdown",
   "id": "551def75-90cd-4320-8aa1-34a7c0665bb4",
   "metadata": {},
   "source": [
    "9. Использование логической индексации для фильтрации данных в Series."
   ]
  },
  {
   "cell_type": "markdown",
   "id": "e1202a52-456f-40fa-a06a-b8ca5fcc99cf",
   "metadata": {},
   "source": [
    "9.1. При логической индексации создается булевый массив."
   ]
  },
  {
   "cell_type": "code",
   "execution_count": 41,
   "id": "13ec07a5-3b21-497b-b0e3-16431d3747e7",
   "metadata": {},
   "outputs": [
    {
     "name": "stdout",
     "output_type": "stream",
     "text": [
      "b    25\n",
      "d    30\n",
      "e    15\n",
      "dtype: int64\n"
     ]
    }
   ],
   "source": [
    "import pandas as pd\n",
    "s = pd.Series([10, 25, 8, 30, 15], index=['a', 'b', 'c', 'd', 'e'])\n",
    "filtered_s = s[s > 10]\n",
    "print(filtered_s)"
   ]
  },
  {
   "cell_type": "markdown",
   "id": "642add5c-ff63-4038-a734-c1d9e928ac88",
   "metadata": {},
   "source": [
    "9.1. Создание логического массива. При применении логического выражения к Series создается булевый массив, который можно вывести отдельно:"
   ]
  },
  {
   "cell_type": "code",
   "execution_count": 44,
   "id": "cb303d28-47a4-4425-8948-ba900bbba6db",
   "metadata": {},
   "outputs": [
    {
     "name": "stdout",
     "output_type": "stream",
     "text": [
      "a    False\n",
      "b     True\n",
      "c    False\n",
      "d     True\n",
      "e     True\n",
      "dtype: bool\n"
     ]
    }
   ],
   "source": [
    "print(s > 10)"
   ]
  },
  {
   "cell_type": "markdown",
   "id": "6d53a0f4-e391-4f46-afaf-31904cf6c514",
   "metadata": {},
   "source": [
    "9.2. Комбинированные условия. Можно задавать **несколько условий** с логическими операторами & (и), | (или), ~ (не):"
   ]
  },
  {
   "cell_type": "code",
   "execution_count": 47,
   "id": "cdc48d4d-b449-4f1d-b800-6d557944c780",
   "metadata": {},
   "outputs": [
    {
     "name": "stdout",
     "output_type": "stream",
     "text": [
      "a    10\n",
      "b    25\n",
      "d    30\n",
      "e    15\n",
      "dtype: int64\n"
     ]
    }
   ],
   "source": [
    "filtered_s = s[(s >= 10) & (s <= 30)]\n",
    "print(filtered_s)"
   ]
  },
  {
   "cell_type": "markdown",
   "id": "dabb6f62-c02a-4923-ba25-e2ad17538b26",
   "metadata": {},
   "source": [
    "9.3. Фильтрация по значнию индекса. Логическую индексацию можно применять не только к значениям, но и к индексам Series:"
   ]
  },
  {
   "cell_type": "code",
   "execution_count": 50,
   "id": "f9b8ee77-713b-4e08-a9da-a9b30be1adb5",
   "metadata": {},
   "outputs": [
    {
     "name": "stdout",
     "output_type": "stream",
     "text": [
      "b    25\n",
      "d    30\n",
      "dtype: int64\n"
     ]
    }
   ],
   "source": [
    "filtered_s = s[s.index.isin(['b', 'd'])]\n",
    "print(filtered_s)"
   ]
  },
  {
   "cell_type": "markdown",
   "id": "b72ddeb5-a683-490a-84cd-87e54e7e93dd",
   "metadata": {},
   "source": [
    "9.4. Использование логической индексации для работы с пропущенными значениями. Методы .insull() и .notull() позволяют фильтровать элементы с пропущенными (NaN) значениями."
   ]
  },
  {
   "cell_type": "code",
   "execution_count": 53,
   "id": "a6121325-afb9-4840-b898-74d58716763d",
   "metadata": {},
   "outputs": [
    {
     "name": "stdout",
     "output_type": "stream",
     "text": [
      "a    10.0\n",
      "c     8.0\n",
      "d    30.0\n",
      "dtype: float64\n"
     ]
    }
   ],
   "source": [
    "s_with_nan = pd.Series([10, None, 8, 30, None], index=['a', 'b', 'c','d', 'e'])\n",
    "filtered_s = s_with_nan[s_with_nan.notnull()]\n",
    "print(filtered_s)"
   ]
  },
  {
   "cell_type": "markdown",
   "id": "02a97a1a-d169-4822-9f1e-5025e38cb6b0",
   "metadata": {},
   "source": [
    "10. Изменение значений элементов в Series."
   ]
  },
  {
   "cell_type": "markdown",
   "id": "849bb1e8-769f-4292-b8ac-3d2bd146f353",
   "metadata": {
    "scrolled": true
   },
   "source": [
    "10.1. Изменение значений по индексу.\n",
    "Значения в pandas.Series можно изменять, обращаясь к элементу по его индексу с помощью .loc[] (меточная индексация) или .iloc[] (позиционная индексация)."
   ]
  },
  {
   "cell_type": "code",
   "execution_count": 57,
   "id": "ba9ac93d-48f8-474e-bfde-6ec61a1e4e54",
   "metadata": {},
   "outputs": [
    {
     "name": "stdout",
     "output_type": "stream",
     "text": [
      "a    10\n",
      "b    25\n",
      "c    30\n",
      "d    40\n",
      "dtype: int64\n"
     ]
    }
   ],
   "source": [
    "import pandas as pd\n",
    "s = pd.Series([10, 20, 30, 40], index=['a', 'b', 'c', 'd'])\n",
    "s.loc['b'] = 25\n",
    "print(s)"
   ]
  },
  {
   "cell_type": "markdown",
   "id": "e8319eea-9413-44c6-a646-9fd034d7ed01",
   "metadata": {
    "scrolled": true
   },
   "source": [
    "10.2. Изменение значений по позиции."
   ]
  },
  {
   "cell_type": "code",
   "execution_count": 60,
   "id": "18c1113c-a23d-4496-bc2b-b152b7a430e6",
   "metadata": {},
   "outputs": [
    {
     "name": "stdout",
     "output_type": "stream",
     "text": [
      "a    10\n",
      "b    50\n",
      "c    30\n",
      "d    40\n",
      "dtype: int64\n"
     ]
    }
   ],
   "source": [
    "s.iloc[1] = 50\n",
    "print(s)"
   ]
  },
  {
   "cell_type": "markdown",
   "id": "74b8375b-e5d1-4e29-9c24-7d2ab793bf53",
   "metadata": {},
   "source": [
    "10.3. Изменение значений с помощью логической индексации."
   ]
  },
  {
   "cell_type": "code",
   "execution_count": 63,
   "id": "85c6a077-740f-4232-ac8a-3c4926703f03",
   "metadata": {},
   "outputs": [
    {
     "name": "stdout",
     "output_type": "stream",
     "text": [
      "a    10\n",
      "b    60\n",
      "c    30\n",
      "d    50\n",
      "dtype: int64\n"
     ]
    }
   ],
   "source": [
    "s[s > 30] += 10\n",
    "print(s)"
   ]
  },
  {
   "cell_type": "markdown",
   "id": "2a8ea90f-b5d6-446b-b8fb-3463139cdae0",
   "metadata": {
    "scrolled": true
   },
   "source": [
    "10.4. Изменение нескольких значений по индексам."
   ]
  },
  {
   "cell_type": "code",
   "execution_count": 66,
   "id": "88a4fcd9-2e98-48ec-a0c1-50c7a1f232a5",
   "metadata": {},
   "outputs": [
    {
     "name": "stdout",
     "output_type": "stream",
     "text": [
      "a    100\n",
      "b     60\n",
      "c    200\n",
      "d     50\n",
      "dtype: int64\n"
     ]
    }
   ],
   "source": [
    "s.loc[['a', 'c']] = [100, 200]\n",
    "print(s)"
   ]
  },
  {
   "cell_type": "markdown",
   "id": "fa238e9b-6dd1-4b03-b7ea-39fb1f66e835",
   "metadata": {},
   "source": [
    "10.5. Изменение значений с помощью метода `.APPLY().`"
   ]
  },
  {
   "cell_type": "code",
   "execution_count": 69,
   "id": "aec21ef4-c80a-4f2e-92c4-b32d58ea4768",
   "metadata": {},
   "outputs": [
    {
     "name": "stdout",
     "output_type": "stream",
     "text": [
      "a    200\n",
      "b    120\n",
      "c    400\n",
      "d    100\n",
      "dtype: int64\n"
     ]
    }
   ],
   "source": [
    "s = s.apply(lambda x: x * 2)\n",
    "print(s)"
   ]
  },
  {
   "cell_type": "markdown",
   "id": "15f29b4e-a71e-4d60-8e0a-c731a4b0188e",
   "metadata": {},
   "source": [
    "10.5. Заполнение пропущенных значений.\n",
    "\n",
    "Метод `.fillna()` используется для замены пропущенных (NaN) значений:"
   ]
  },
  {
   "cell_type": "code",
   "execution_count": 72,
   "id": "6d8ce7c9-e2a0-4396-af75-41315ca84df8",
   "metadata": {},
   "outputs": [
    {
     "name": "stdout",
     "output_type": "stream",
     "text": [
      "a    10.0\n",
      "b     0.0\n",
      "c    30.0\n",
      "d     0.0\n",
      "dtype: float64\n"
     ]
    }
   ],
   "source": [
    "s_with_nan = pd.Series([10, None, 30, None], index=['a', 'b', 'c','d'])\n",
    "s_filled = s_with_nan.fillna(0)\n",
    "print(s_filled)"
   ]
  },
  {
   "cell_type": "markdown",
   "id": "3944c36e-0a35-4587-a08a-43dc3a1bedbf",
   "metadata": {},
   "source": [
    "11. Основные методы работы с Series."
   ]
  },
  {
   "cell_type": "markdown",
   "id": "7096bf1c-a741-4279-9f2e-4ced787b55f5",
   "metadata": {},
   "source": [
    "11.1. Метод `.head(n)` позволяет получить первые `n` элементов из объекта `Series`. Если `n` не указан, по умолчанию возвращается первые 5 элементов."
   ]
  },
  {
   "cell_type": "code",
   "execution_count": 76,
   "id": "2248f7c7-3661-4dd6-adb0-ae797703b5a5",
   "metadata": {},
   "outputs": [
    {
     "name": "stdout",
     "output_type": "stream",
     "text": [
      "a    10\n",
      "b    20\n",
      "c    30\n",
      "dtype: int64\n"
     ]
    }
   ],
   "source": [
    "import pandas as pd\n",
    "s = pd.Series([10, 20, 30, 40, 50, 60, 70], index=['a', 'b', 'c', 'd','e', 'f', 'g'])\n",
    "print(s.head(3))"
   ]
  },
  {
   "cell_type": "markdown",
   "id": "1b2c6267-46f4-4e68-b4ad-c3b82c13962f",
   "metadata": {},
   "source": [
    "11.1.1. Если вызвать `.head()` без аргумента, по умолчанию будет выведено 5 элементов:"
   ]
  },
  {
   "cell_type": "code",
   "execution_count": 79,
   "id": "5512ff23-5be2-45b4-b473-eee89ee27101",
   "metadata": {},
   "outputs": [
    {
     "name": "stdout",
     "output_type": "stream",
     "text": [
      "a    10\n",
      "b    20\n",
      "c    30\n",
      "d    40\n",
      "e    50\n",
      "dtype: int64\n"
     ]
    }
   ],
   "source": [
    "print(s.head())"
   ]
  },
  {
   "cell_type": "markdown",
   "id": "e15df53f-6b9c-43c3-8865-a18f435f1207",
   "metadata": {},
   "source": [
    "11.2. Метод `.teil(n)` работает аналогично `.head(n)`, но возвращает последние n элементов `Series`."
   ]
  },
  {
   "cell_type": "code",
   "execution_count": 82,
   "id": "00fb0e14-442c-4612-afc3-50e368e77c73",
   "metadata": {},
   "outputs": [
    {
     "name": "stdout",
     "output_type": "stream",
     "text": [
      "e    50\n",
      "f    60\n",
      "g    70\n",
      "dtype: int64\n"
     ]
    }
   ],
   "source": [
    "print(s.tail(3))"
   ]
  },
  {
   "cell_type": "markdown",
   "id": "20485329-36f0-4f65-a828-477df4391072",
   "metadata": {},
   "source": [
    "11.2.1. Если вызвать `.teal()` без аргумента, по умолчанию будет выведено 5 элементов:"
   ]
  },
  {
   "cell_type": "code",
   "execution_count": 85,
   "id": "5916c333-dbdc-4561-9ae4-111c2ccafa7b",
   "metadata": {},
   "outputs": [
    {
     "name": "stdout",
     "output_type": "stream",
     "text": [
      "c    30\n",
      "d    40\n",
      "e    50\n",
      "f    60\n",
      "g    70\n",
      "dtype: int64\n"
     ]
    }
   ],
   "source": [
    "print(s.tail())"
   ]
  },
  {
   "cell_type": "markdown",
   "id": "254762c7-8a0c-4a69-a298-74875daba7f4",
   "metadata": {},
   "source": [
    "12. `.index` и `.values` - получение индексов и значений `Series`."
   ]
  },
  {
   "cell_type": "markdown",
   "id": "031d9109-f21c-4367-a3a5-41068c907377",
   "metadata": {},
   "source": [
    "12.1. Получение индексов с помощью `.INDEX`."
   ]
  },
  {
   "cell_type": "code",
   "execution_count": 89,
   "id": "2a47df56-0390-4d30-afa5-6243a56485a1",
   "metadata": {},
   "outputs": [
    {
     "name": "stdout",
     "output_type": "stream",
     "text": [
      "Index(['a', 'b', 'c', 'd', 'e'], dtype='object')\n"
     ]
    }
   ],
   "source": [
    "import pandas as pd\n",
    "s = pd.Series([10, 20, 30, 40, 50], index=['a', 'b', 'c', 'd', 'e'])\n",
    "print(s.index)"
   ]
  },
  {
   "cell_type": "markdown",
   "id": "abf3f823-b8eb-40e4-81a4-ba792a541646",
   "metadata": {},
   "source": [
    "12.1.1. К индексу можно обращаться по элементам, так как он работает как массив:"
   ]
  },
  {
   "cell_type": "code",
   "execution_count": 92,
   "id": "0a729b80-8aac-4e88-a3a0-96653105d8ba",
   "metadata": {},
   "outputs": [
    {
     "name": "stdout",
     "output_type": "stream",
     "text": [
      "a\n",
      "e\n"
     ]
    }
   ],
   "source": [
    "print(s.index[0])\n",
    "print(s.index[-1])"
   ]
  },
  {
   "cell_type": "markdown",
   "id": "4e27430b-5bd2-4a03-b596-f31bb9421684",
   "metadata": {},
   "source": [
    "12.1.1. Можно проверить, содержит ли индекс определенное значение:"
   ]
  },
  {
   "cell_type": "code",
   "execution_count": 95,
   "id": "75f36d78-d8a3-47c5-a6b0-57a1dee41f76",
   "metadata": {},
   "outputs": [
    {
     "name": "stdout",
     "output_type": "stream",
     "text": [
      "True\n",
      "False\n"
     ]
    }
   ],
   "source": [
    "print('b' in s.index)\n",
    "print('z' in s.index)"
   ]
  },
  {
   "cell_type": "markdown",
   "id": "d40a4011-6c8e-4c2d-8e66-9996b003b205",
   "metadata": {},
   "source": [
    "12.2. Получение индексов с помощью `.VALUES`."
   ]
  },
  {
   "cell_type": "code",
   "execution_count": 98,
   "id": "b00769b9-32fc-4e00-afd0-3f9440bac410",
   "metadata": {},
   "outputs": [
    {
     "name": "stdout",
     "output_type": "stream",
     "text": [
      "[10 20 30 40 50]\n"
     ]
    }
   ],
   "source": [
    "print(s.values)"
   ]
  },
  {
   "cell_type": "markdown",
   "id": "fdb34183-2b27-42f7-a05f-3e37c49d664e",
   "metadata": {},
   "source": [
    "12.2.1. Значения можно использовать в операциях, как с обычным массивом:"
   ]
  },
  {
   "cell_type": "code",
   "execution_count": 101,
   "id": "f5036b80-25b9-4718-b2f8-5ee027c6ed7d",
   "metadata": {},
   "outputs": [
    {
     "name": "stdout",
     "output_type": "stream",
     "text": [
      "10\n",
      "30.0\n"
     ]
    }
   ],
   "source": [
    "print(s.values[0])\n",
    "print(s.values.mean())"
   ]
  },
  {
   "cell_type": "markdown",
   "id": "903c48c3-2153-46b7-bf58-c869bbab01a7",
   "metadata": {},
   "source": [
    "13. `.dtype` - определение типа данных в pandas Sedries."
   ]
  },
  {
   "cell_type": "markdown",
   "id": "5a12be90-d14d-4f99-ae70-c05e3ba35808",
   "metadata": {},
   "source": [
    "13.1. Проверка типа данных в `Series`."
   ]
  },
  {
   "cell_type": "code",
   "execution_count": 105,
   "id": "e1b4fa1d-0fe4-4053-b4ca-b129161633d0",
   "metadata": {},
   "outputs": [
    {
     "name": "stdout",
     "output_type": "stream",
     "text": [
      "int64\n"
     ]
    }
   ],
   "source": [
    "import pandas as pd\n",
    "s = pd.Series([10, 20, 30, 40, 50])\n",
    "print(s.dtype)"
   ]
  },
  {
   "cell_type": "markdown",
   "id": "efbea941-5d13-43ce-8d3d-d3d542969eef",
   "metadata": {},
   "source": [
    "13.2. Автоматическое определение типа.\n",
    "\n",
    "При сизданиие `Series` pandas автоматически определяет тип данных на основе переданных значений:"
   ]
  },
  {
   "cell_type": "code",
   "execution_count": 108,
   "id": "b002f51d-e043-4efc-a348-06cd72b2bddc",
   "metadata": {},
   "outputs": [
    {
     "name": "stdout",
     "output_type": "stream",
     "text": [
      "float64\n",
      "object\n",
      "bool\n"
     ]
    }
   ],
   "source": [
    "s1 = pd.Series([1.5, 2.3, 3.7])\n",
    "s2 = pd.Series([\"apple\", \"banana\", \"cherry\"])\n",
    "s3 = pd.Series([True, False, True])\n",
    "print(s1.dtype)\n",
    "print(s2.dtype)\n",
    "print(s3.dtype)"
   ]
  },
  {
   "cell_type": "markdown",
   "id": "20fe9dbc-9acc-4364-9815-9d95a309aa54",
   "metadata": {},
   "source": [
    "13.3. Приведение типа с `.ASTYPE()`."
   ]
  },
  {
   "cell_type": "code",
   "execution_count": 111,
   "id": "69949085-fe89-4521-8112-bb8f7188388e",
   "metadata": {},
   "outputs": [
    {
     "name": "stdout",
     "output_type": "stream",
     "text": [
      "0    1\n",
      "1    2\n",
      "2    3\n",
      "dtype: int32\n",
      "int32\n"
     ]
    }
   ],
   "source": [
    "s1_int = s1.astype(int)\n",
    "print(s1_int)\n",
    "print(s1_int.dtype)"
   ]
  },
  {
   "cell_type": "markdown",
   "id": "d4e05069-20e3-477d-9ab8-54a3d619e423",
   "metadata": {},
   "source": [
    "13.4. Обнаружение неоднородных типов данных."
   ]
  },
  {
   "cell_type": "code",
   "execution_count": 114,
   "id": "140c69fe-20e6-4456-8b02-371253d8a584",
   "metadata": {},
   "outputs": [
    {
     "name": "stdout",
     "output_type": "stream",
     "text": [
      "object\n"
     ]
    }
   ],
   "source": [
    "s4 = pd.Series([10, \"apple\", 3.14, True])\n",
    "print(s4.dtype)"
   ]
  },
  {
   "cell_type": "markdown",
   "id": "8cd02f13-b10c-477d-b7aa-8a80e740c437",
   "metadata": {
    "scrolled": true
   },
   "source": [
    "14. `.insull()` и `.notnull()` - проверка наличия пропущенных значений в pandas Series."
   ]
  },
  {
   "cell_type": "markdown",
   "id": "857a0761-67d1-4d03-a898-d163fd5f8063",
   "metadata": {},
   "source": [
    "14.1. `.ISNULL()` - выявление пропущенных значений."
   ]
  },
  {
   "cell_type": "code",
   "execution_count": 118,
   "id": "65aa5777-ba79-460f-b416-4f19cd5e558f",
   "metadata": {},
   "outputs": [
    {
     "name": "stdout",
     "output_type": "stream",
     "text": [
      "0    False\n",
      "1     True\n",
      "2    False\n",
      "3     True\n",
      "4    False\n",
      "dtype: bool\n"
     ]
    }
   ],
   "source": [
    "import pandas as pd\n",
    "import numpy as np\n",
    "s = pd.Series([10, np.nan, 30, None, 50])\n",
    "print(s.isnull())"
   ]
  },
  {
   "cell_type": "markdown",
   "id": "2909276f-6988-45bb-8c1b-673c63789d02",
   "metadata": {},
   "source": [
    "14.2. `.NOTNULL()` - проверка на ненулевые значения."
   ]
  },
  {
   "cell_type": "code",
   "execution_count": 121,
   "id": "52c04651-609b-4415-b719-371f9e9b427f",
   "metadata": {},
   "outputs": [
    {
     "name": "stdout",
     "output_type": "stream",
     "text": [
      "0     True\n",
      "1    False\n",
      "2     True\n",
      "3    False\n",
      "4     True\n",
      "dtype: bool\n"
     ]
    }
   ],
   "source": [
    "print(s.notnull())"
   ]
  },
  {
   "cell_type": "markdown",
   "id": "6b9636c1-46cf-4477-8042-69f5674f0b81",
   "metadata": {},
   "source": [
    "14.3. Использование логической индексации для фильтрации непустых значениий."
   ]
  },
  {
   "cell_type": "code",
   "execution_count": 124,
   "id": "08f02743-e71f-4bdc-b3e1-928728f90c64",
   "metadata": {},
   "outputs": [
    {
     "name": "stdout",
     "output_type": "stream",
     "text": [
      "0    10.0\n",
      "2    30.0\n",
      "4    50.0\n",
      "dtype: float64\n"
     ]
    }
   ],
   "source": [
    "filtered_s = s[s.notnull()]\n",
    "print(filtered_s)"
   ]
  },
  {
   "cell_type": "markdown",
   "id": "d9249d9a-4852-4551-b124-42dfba214456",
   "metadata": {},
   "source": [
    "14.3.1. Выбор только пропущенных значений:"
   ]
  },
  {
   "cell_type": "code",
   "execution_count": 127,
   "id": "b80d354a-043f-4c20-b4a8-0519ac5aed8f",
   "metadata": {},
   "outputs": [
    {
     "name": "stdout",
     "output_type": "stream",
     "text": [
      "1   NaN\n",
      "3   NaN\n",
      "dtype: float64\n"
     ]
    }
   ],
   "source": [
    "missing_values = s[s.isnull()]\n",
    "print(missing_values)"
   ]
  },
  {
   "cell_type": "markdown",
   "id": "d9f9f830-8d97-4639-a770-932ad83e3e16",
   "metadata": {},
   "source": [
    "15. `.fillna(value)`, `.dropna()` - работа с пропущенными значениями в pandas Series."
   ]
  },
  {
   "cell_type": "markdown",
   "id": "6b4cd39b-5ac4-4bfc-ba30-e80d7895c5e1",
   "metadata": {},
   "source": [
    "15.1. `.FILLNA(VALUE) - замена пропущенных значений."
   ]
  },
  {
   "cell_type": "code",
   "execution_count": 131,
   "id": "9ba263d2-dae3-4c24-9773-3c0de5702d8d",
   "metadata": {},
   "outputs": [
    {
     "name": "stdout",
     "output_type": "stream",
     "text": [
      "0    10.0\n",
      "1     0.0\n",
      "2    30.0\n",
      "3     0.0\n",
      "4    50.0\n",
      "dtype: float64\n"
     ]
    }
   ],
   "source": [
    "import pandas as pd\n",
    "import numpy as np\n",
    "s = pd.Series([10, np.nan, 30, None, 50])\n",
    "s_filled = s.fillna(0)\n",
    "print(s_filled)"
   ]
  },
  {
   "cell_type": "markdown",
   "id": "99ec82b8-d1b3-4244-ae67-e73edac49975",
   "metadata": {},
   "source": [
    "15.2. Замена пропущенных значений средним, медианой или другим вычисленным значением."
   ]
  },
  {
   "cell_type": "code",
   "execution_count": 134,
   "id": "cac43db3-2765-4654-aeeb-43fbbe3e5fef",
   "metadata": {},
   "outputs": [
    {
     "name": "stdout",
     "output_type": "stream",
     "text": [
      "0    10.0\n",
      "1    30.0\n",
      "2    30.0\n",
      "3    30.0\n",
      "4    50.0\n",
      "dtype: float64\n"
     ]
    }
   ],
   "source": [
    "s_filled = s.fillna(s.mean())\n",
    "print(s_filled)"
   ]
  },
  {
   "cell_type": "markdown",
   "id": "e1aa5420-0eb0-46de-b2de-f6692055dae6",
   "metadata": {},
   "source": [
    "15.3. `.DROPNA()` - удаление пропущенных значений."
   ]
  },
  {
   "cell_type": "code",
   "execution_count": 137,
   "id": "fac84d50-7afb-47f2-945c-5d38c5508ffc",
   "metadata": {},
   "outputs": [
    {
     "name": "stdout",
     "output_type": "stream",
     "text": [
      "0    10.0\n",
      "2    30.0\n",
      "4    50.0\n",
      "dtype: float64\n"
     ]
    }
   ],
   "source": [
    "s_cleaned = s.dropna()\n",
    "print(s_cleaned)"
   ]
  },
  {
   "cell_type": "markdown",
   "id": "8e21421b-e596-4253-98e6-2c66a88a22a3",
   "metadata": {},
   "source": [
    "16. Арифметические операции с числом."
   ]
  },
  {
   "cell_type": "code",
   "execution_count": 140,
   "id": "310adf9e-e971-4c3f-b56f-d5e9910e6f9e",
   "metadata": {},
   "outputs": [
    {
     "name": "stdout",
     "output_type": "stream",
     "text": [
      "0     20\n",
      "1     40\n",
      "2     60\n",
      "3     80\n",
      "4    100\n",
      "dtype: int64\n"
     ]
    }
   ],
   "source": [
    "import pandas as pd\n",
    "s = pd.Series([10, 20, 30, 40, 50])\n",
    "s_multiplied = s * 2\n",
    "print(s_multiplied)"
   ]
  },
  {
   "cell_type": "markdown",
   "id": "6d80d6b4-2a11-47b3-8f7a-3cb3abfd76e4",
   "metadata": {},
   "source": [
    "17. Арифметические операции между двумя Series."
   ]
  },
  {
   "cell_type": "code",
   "execution_count": 143,
   "id": "97fc24b0-a323-48d7-8b7d-a59a6b70a80a",
   "metadata": {},
   "outputs": [
    {
     "name": "stdout",
     "output_type": "stream",
     "text": [
      "a    11\n",
      "b    22\n",
      "c    33\n",
      "d    44\n",
      "e    55\n",
      "dtype: int64\n"
     ]
    }
   ],
   "source": [
    "s1 = pd.Series([1, 2, 3, 4, 5], index=['a', 'b', 'c', 'd', 'e'])\n",
    "s2 = pd.Series([10, 20, 30, 40, 50], index=['a', 'b', 'c', 'd', 'e'])\n",
    "s_sum = s1 + s2\n",
    "print(s_sum)"
   ]
  },
  {
   "cell_type": "markdown",
   "id": "5af1b9a4-47ce-4c6c-a9d9-9ff81b23e13b",
   "metadata": {},
   "source": [
    "18. Работа с несовпадающими индексами."
   ]
  },
  {
   "cell_type": "code",
   "execution_count": 146,
   "id": "6aa1afc9-0c56-4d69-a08f-562eabba879b",
   "metadata": {},
   "outputs": [
    {
     "name": "stdout",
     "output_type": "stream",
     "text": [
      "a    101.0\n",
      "b    202.0\n",
      "c      NaN\n",
      "d      NaN\n",
      "e      NaN\n",
      "f      NaN\n",
      "dtype: float64\n"
     ]
    }
   ],
   "source": [
    "s3 = pd.Series([100, 200, 300], index=['a', 'b', 'f'])\n",
    "s_result = s1 + s3\n",
    "print(s_result)"
   ]
  },
  {
   "cell_type": "markdown",
   "id": "014783f6-7755-4221-99d1-f5ae8c99ebe0",
   "metadata": {
    "scrolled": true
   },
   "source": [
    "19. Использование методов `.add(), .sub(), .mul(), .div()`."
   ]
  },
  {
   "cell_type": "code",
   "execution_count": 149,
   "id": "8fa6dcce-91ed-4c8f-970f-8b941d5416df",
   "metadata": {},
   "outputs": [
    {
     "name": "stdout",
     "output_type": "stream",
     "text": [
      "a    101.0\n",
      "b    202.0\n",
      "c      3.0\n",
      "d      4.0\n",
      "e      5.0\n",
      "f    300.0\n",
      "dtype: float64\n"
     ]
    }
   ],
   "source": [
    "s_result = s1.add(s3, fill_value=0)\n",
    "print(s_result)"
   ]
  },
  {
   "cell_type": "markdown",
   "id": "fa90ec06-4e07-4a71-9e1f-03d0100ea9f7",
   "metadata": {
    "scrolled": true
   },
   "source": [
    "20. Применение функций с помощью `.apply(func)` для Series."
   ]
  },
  {
   "cell_type": "markdown",
   "id": "e2ddf12c-f1a1-45b6-bf9a-1b537701aeba",
   "metadata": {},
   "source": [
    "20.1. Использование `.APPLY()` с анонимной функцией `LAMBDA`."
   ]
  },
  {
   "cell_type": "code",
   "execution_count": 153,
   "id": "cd0885f6-39f8-4dbf-9f88-d7e998b714f7",
   "metadata": {},
   "outputs": [
    {
     "name": "stdout",
     "output_type": "stream",
     "text": [
      "0     1\n",
      "1     4\n",
      "2     9\n",
      "3    16\n",
      "4    25\n",
      "dtype: int64\n"
     ]
    }
   ],
   "source": [
    "import pandas as pd\n",
    "s = pd.Series([1, 2, 3, 4, 5])\n",
    "s_squared = s.apply(lambda x: x ** 2)\n",
    "print(s_squared)"
   ]
  },
  {
   "cell_type": "markdown",
   "id": "29981370-cdf7-4c80-8e06-7407fa6cd7b6",
   "metadata": {},
   "source": [
    "20.2. Использование `.APPLY()` с обычной функцией."
   ]
  },
  {
   "cell_type": "code",
   "execution_count": 156,
   "id": "e72737ce-69c9-44f5-b001-c2d444c0de41",
   "metadata": {},
   "outputs": [
    {
     "name": "stdout",
     "output_type": "stream",
     "text": [
      "0    Value: 1\n",
      "1    Value: 2\n",
      "2    Value: 3\n",
      "3    Value: 4\n",
      "4    Value: 5\n",
      "dtype: object\n"
     ]
    }
   ],
   "source": [
    "def custom_function(x):\n",
    "    return f\"Value: {x}\"\n",
    "s_transformed = s.apply(custom_function)\n",
    "print(s_transformed)"
   ]
  },
  {
   "cell_type": "markdown",
   "id": "d303f18f-8783-4743-8422-b76167a80a16",
   "metadata": {},
   "source": [
    "20.3. Использование `.APPLY()` для сложных вычислений."
   ]
  },
  {
   "cell_type": "code",
   "execution_count": 159,
   "id": "40454409-51d7-4566-bfcd-5f22ab0cd456",
   "metadata": {},
   "outputs": [
    {
     "name": "stdout",
     "output_type": "stream",
     "text": [
      "0    0.000000\n",
      "1    0.693147\n",
      "2    1.098612\n",
      "3    1.386294\n",
      "4    1.609438\n",
      "dtype: float64\n"
     ]
    }
   ],
   "source": [
    "import numpy as np\n",
    "s_log = s.apply(np.log)\n",
    "print(s_log)"
   ]
  },
  {
   "cell_type": "markdown",
   "id": "07266d3b-6a75-4502-af85-91a901e944d6",
   "metadata": {},
   "source": [
    "20.4. Применение `.APPLY()`  для работы со строками."
   ]
  },
  {
   "cell_type": "code",
   "execution_count": 162,
   "id": "a52ca80e-6828-4d6a-97df-8f0830f79cac",
   "metadata": {},
   "outputs": [
    {
     "name": "stdout",
     "output_type": "stream",
     "text": [
      "0     APPLE\n",
      "1    BANANA\n",
      "2    CHERRY\n",
      "dtype: object\n"
     ]
    }
   ],
   "source": [
    "s_text = pd.Series([\"apple\", \"banana\", \"cherry\"])\n",
    "s_upper = s_text.apply(str.upper)\n",
    "print(s_upper)"
   ]
  },
  {
   "cell_type": "markdown",
   "id": "c7a21466-4711-4f18-b3fe-475bbd95a8a4",
   "metadata": {},
   "source": [
    "21. Метода агрегирования Series."
   ]
  },
  {
   "cell_type": "markdown",
   "id": "69198cff-7f07-4c66-8916-d761a1b3a56c",
   "metadata": {},
   "source": [
    "21.1. Сумма элеентов `.sum()`."
   ]
  },
  {
   "cell_type": "code",
   "execution_count": 194,
   "id": "b11c5596-c969-4d46-87b4-7f335f40ac8a",
   "metadata": {},
   "outputs": [
    {
     "name": "stdout",
     "output_type": "stream",
     "text": [
      "150\n"
     ]
    }
   ],
   "source": [
    "import pandas as pd\n",
    "s = pd.Series([10, 20, 30, 40, 50])\n",
    "print(s.sum())"
   ]
  },
  {
   "cell_type": "markdown",
   "id": "e7ddad00-251c-4378-9f77-80b0ef8dcef7",
   "metadata": {},
   "source": [
    "21.1.1. При наличии NaN метод `sum()` их игнорирует."
   ]
  },
  {
   "cell_type": "code",
   "execution_count": 199,
   "id": "8a60c3d3-8a22-406a-bac8-1ba8cde590de",
   "metadata": {},
   "outputs": [
    {
     "name": "stdout",
     "output_type": "stream",
     "text": [
      "120.0\n"
     ]
    }
   ],
   "source": [
    "s_with_nan = pd.Series([10, 20, None, 40, 50])\n",
    "print(s_with_nan.sum())"
   ]
  },
  {
   "cell_type": "markdown",
   "id": "49e8e121-799c-4272-8f89-2de24740074a",
   "metadata": {},
   "source": [
    "21.2. Среднее значение `.MEAN()`."
   ]
  },
  {
   "cell_type": "code",
   "execution_count": 204,
   "id": "0588dc35-3410-453f-9534-dfe30c26041b",
   "metadata": {},
   "outputs": [
    {
     "name": "stdout",
     "output_type": "stream",
     "text": [
      "30.0\n"
     ]
    }
   ],
   "source": [
    "print(s.mean())"
   ]
  },
  {
   "cell_type": "markdown",
   "id": "4ace2566-2780-4e8c-84f7-d0af289189c3",
   "metadata": {
    "scrolled": true
   },
   "source": [
    "21.2.1. При наличии NaN метод игнорирует их."
   ]
  },
  {
   "cell_type": "code",
   "execution_count": 209,
   "id": "0208ad0d-df2c-458d-927f-52e0d375e2d7",
   "metadata": {},
   "outputs": [
    {
     "name": "stdout",
     "output_type": "stream",
     "text": [
      "30.0\n"
     ]
    }
   ],
   "source": [
    "print(s_with_nan.mean())"
   ]
  },
  {
   "cell_type": "markdown",
   "id": "7f04ec1f-ef26-443c-8c93-d06f22258bae",
   "metadata": {},
   "source": [
    "21.3. Минимум и максимум `.MIN()` и `.MAX()`."
   ]
  },
  {
   "cell_type": "code",
   "execution_count": 212,
   "id": "6c320dfe-6ac3-4a66-ba96-f1d4cfb29b3c",
   "metadata": {},
   "outputs": [
    {
     "name": "stdout",
     "output_type": "stream",
     "text": [
      "10\n",
      "50\n"
     ]
    }
   ],
   "source": [
    "print(s.min())\n",
    "print(s.max())"
   ]
  },
  {
   "cell_type": "markdown",
   "id": "8abf17ea-ac5e-46e3-acdf-7034f5c6e1b1",
   "metadata": {},
   "source": [
    "21.4. Описание данных `.DESCRIBE()`."
   ]
  },
  {
   "cell_type": "code",
   "execution_count": 215,
   "id": "3b445bfe-35d5-4913-9e20-de0ec45fd544",
   "metadata": {},
   "outputs": [
    {
     "name": "stdout",
     "output_type": "stream",
     "text": [
      "count     5.000000\n",
      "mean     30.000000\n",
      "std      15.811388\n",
      "min      10.000000\n",
      "25%      20.000000\n",
      "50%      30.000000\n",
      "75%      40.000000\n",
      "max      50.000000\n",
      "dtype: float64\n"
     ]
    }
   ],
   "source": [
    "print(s.describe())"
   ]
  },
  {
   "cell_type": "markdown",
   "id": "3cbf167f-3e2b-4cbb-97b2-39d1040bc2c9",
   "metadata": {},
   "source": [
    "21.4.1. Если `Series` содержит строки или категориальные данные `.describe()` вернет информацию о количестве уникальных значений и их частоте."
   ]
  },
  {
   "cell_type": "code",
   "execution_count": 218,
   "id": "489e12db-30a3-4425-ba16-b0af0b5b8a10",
   "metadata": {},
   "outputs": [
    {
     "name": "stdout",
     "output_type": "stream",
     "text": [
      "count         5\n",
      "unique        3\n",
      "top       apple\n",
      "freq          2\n",
      "dtype: object\n"
     ]
    }
   ],
   "source": [
    "s_text = pd.Series([\"apple\", \"banana\", \"apple\", \"cherry\", \"banana\"])\n",
    "print(s_text.describe())"
   ]
  },
  {
   "cell_type": "markdown",
   "id": "3b89e481-d523-46bd-84be-dd747b733e6b",
   "metadata": {},
   "source": [
    "22. Совместимость с NumPy."
   ]
  },
  {
   "cell_type": "markdown",
   "id": "bf2770e4-51a6-4cfd-a544-46b2caa6feb9",
   "metadata": {},
   "source": [
    "22.1. Логарифм `np.log(s)`."
   ]
  },
  {
   "cell_type": "code",
   "execution_count": 223,
   "id": "d4fd3110-b4e2-4e42-bcb6-36cfb9231baa",
   "metadata": {},
   "outputs": [
    {
     "name": "stdout",
     "output_type": "stream",
     "text": [
      "0    0.000000\n",
      "1    0.693147\n",
      "2    1.098612\n",
      "3    1.386294\n",
      "4    1.609438\n",
      "dtype: float64\n"
     ]
    }
   ],
   "source": [
    "import pandas as pd\n",
    "import numpy as np\n",
    "s = pd.Series([1, 2, 3, 4, 5])\n",
    "s_log = np.log(s)\n",
    "print(s_log)"
   ]
  },
  {
   "cell_type": "markdown",
   "id": "25fe4dff-09ff-41d5-afce-b18f22714abe",
   "metadata": {},
   "source": [
    "22.2. Экспонента `np.exp(s)`."
   ]
  },
  {
   "cell_type": "code",
   "execution_count": 226,
   "id": "060e32a1-3c52-4be8-b8b6-c4468b4dc3be",
   "metadata": {},
   "outputs": [
    {
     "name": "stdout",
     "output_type": "stream",
     "text": [
      "0      2.718282\n",
      "1      7.389056\n",
      "2     20.085537\n",
      "3     54.598150\n",
      "4    148.413159\n",
      "dtype: float64\n"
     ]
    }
   ],
   "source": [
    "s_exp = np.exp(s)\n",
    "print(s_exp)"
   ]
  },
  {
   "cell_type": "markdown",
   "id": "9eb679ee-53f1-4f87-b5be-7548b27d3056",
   "metadata": {},
   "source": [
    "22.3. Квадратный корень `np.sqrt(s)`."
   ]
  },
  {
   "cell_type": "code",
   "execution_count": 229,
   "id": "d85ea28d-8c46-432c-bbcb-e7443223cf54",
   "metadata": {},
   "outputs": [
    {
     "name": "stdout",
     "output_type": "stream",
     "text": [
      "0    1.000000\n",
      "1    1.414214\n",
      "2    1.732051\n",
      "3    2.000000\n",
      "4    2.236068\n",
      "dtype: float64\n"
     ]
    }
   ],
   "source": [
    "s_sqrt = np.sqrt(s)\n",
    "print(s_sqrt)"
   ]
  },
  {
   "cell_type": "markdown",
   "id": "5e490371-ef1c-4565-9d89-2b8a183d359d",
   "metadata": {},
   "source": [
    "22.4. Применение других NumPy-функций."
   ]
  },
  {
   "cell_type": "code",
   "execution_count": 232,
   "id": "10bc3d08-718a-4bfa-af34-d6cc08cd4e2c",
   "metadata": {},
   "outputs": [
    {
     "name": "stdout",
     "output_type": "stream",
     "text": [
      "0    0.841471\n",
      "1    0.909297\n",
      "2    0.141120\n",
      "3   -0.756802\n",
      "4   -0.958924\n",
      "dtype: float64\n",
      "0    0.540302\n",
      "1   -0.416147\n",
      "2   -0.989992\n",
      "3   -0.653644\n",
      "4    0.283662\n",
      "dtype: float64\n",
      "0    1\n",
      "1    2\n",
      "2    3\n",
      "3    4\n",
      "4    5\n",
      "dtype: int64\n"
     ]
    }
   ],
   "source": [
    "print(np.sin(s))\n",
    "print(np.cos(s))\n",
    "print(np.abs(s))"
   ]
  },
  {
   "cell_type": "markdown",
   "id": "055b1ce6-f968-4bdf-a8c6-c7f7cce86c1c",
   "metadata": {},
   "source": [
    "22.5. Обход ошибок при работе с `NaN`."
   ]
  },
  {
   "cell_type": "code",
   "execution_count": 235,
   "id": "c9049405-324a-4b90-9975-b4f271999018",
   "metadata": {},
   "outputs": [
    {
     "name": "stdout",
     "output_type": "stream",
     "text": [
      "0    1.0\n",
      "1    NaN\n",
      "2    2.0\n",
      "3    3.0\n",
      "dtype: float64\n"
     ]
    }
   ],
   "source": [
    "s_with_nan = pd.Series([1, np.nan, 4, 9])\n",
    "print(np.sqrt(s_with_nan))"
   ]
  },
  {
   "cell_type": "markdown",
   "id": "8f3307a8-cf07-4c49-84a3-048d5224ee32",
   "metadata": {},
   "source": [
    "23. Работа с индексами."
   ]
  },
  {
   "cell_type": "markdown",
   "id": "ee1c75fc-f232-4a28-afbd-9a2134196ba8",
   "metadata": {},
   "source": [
    "23.1. Изменение индексов с помощью `.SET_INDEX()`."
   ]
  },
  {
   "cell_type": "code",
   "execution_count": 239,
   "id": "d50cbd25-5219-42e3-90be-e62473fe44e6",
   "metadata": {},
   "outputs": [
    {
     "name": "stdout",
     "output_type": "stream",
     "text": [
      "x    10\n",
      "y    20\n",
      "z    30\n",
      "w    40\n",
      "dtype: int64\n"
     ]
    }
   ],
   "source": [
    "import pandas as pd\n",
    "s = pd.Series([10, 20, 30, 40], index=['a', 'b', 'c', 'd'])\n",
    "s.index = ['x', 'y', 'z', 'w']\n",
    "print(s)"
   ]
  },
  {
   "cell_type": "markdown",
   "id": "342016c9-54d9-4c9f-b9f2-73ddeabd4149",
   "metadata": {},
   "source": [
    "23.2. Сброс индексов с помощью `.RESER_INDEX()`."
   ]
  },
  {
   "cell_type": "code",
   "execution_count": 242,
   "id": "f2b0464b-0172-45fd-a8f2-94b94c0f591c",
   "metadata": {},
   "outputs": [
    {
     "name": "stdout",
     "output_type": "stream",
     "text": [
      "  index   0\n",
      "0     x  10\n",
      "1     y  20\n",
      "2     z  30\n",
      "3     w  40\n"
     ]
    }
   ],
   "source": [
    "s_reset = s.reset_index()\n",
    "print(s_reset)"
   ]
  },
  {
   "cell_type": "markdown",
   "id": "3fcd7233-a44f-47f4-8226-c57ee731df52",
   "metadata": {},
   "source": [
    "23.2.1. Если требуется удалить старый индекс, можно передать аргумент `drop=True`."
   ]
  },
  {
   "cell_type": "code",
   "execution_count": 245,
   "id": "593694cd-1224-474a-9d72-9db255dfc503",
   "metadata": {},
   "outputs": [
    {
     "name": "stdout",
     "output_type": "stream",
     "text": [
      "0    10\n",
      "1    20\n",
      "2    30\n",
      "3    40\n",
      "dtype: int64\n"
     ]
    }
   ],
   "source": [
    "s_reset = s.reset_index(drop=True)\n",
    "print(s_reset)"
   ]
  },
  {
   "cell_type": "markdown",
   "id": "f6b887a4-0181-4272-81f5-976075ebc27f",
   "metadata": {},
   "source": [
    "24. Проверка уникальности индексов Series."
   ]
  },
  {
   "cell_type": "code",
   "execution_count": 248,
   "id": "4268c7bf-ef09-4ef8-8876-6327fd32c570",
   "metadata": {},
   "outputs": [
    {
     "name": "stdout",
     "output_type": "stream",
     "text": [
      "True\n"
     ]
    }
   ],
   "source": [
    "import pandas as pd\n",
    "s_unique = pd.Series([10, 20, 30], index=['a', 'b', 'c'])\n",
    "print(s_unique.index.is_unique)"
   ]
  },
  {
   "cell_type": "markdown",
   "id": "6f75b058-9e93-450f-a203-d48279f5882a",
   "metadata": {},
   "source": [
    "24.2. Проверка при наличии повторяющихся индексов."
   ]
  },
  {
   "cell_type": "code",
   "execution_count": 251,
   "id": "6460fc8d-7f88-4d3e-ab23-fe0508409e6a",
   "metadata": {},
   "outputs": [
    {
     "name": "stdout",
     "output_type": "stream",
     "text": [
      "False\n"
     ]
    }
   ],
   "source": [
    "s_duplicate = pd.Series([10, 20, 30, 40], index=['a', 'b', 'a', 'c'])\n",
    "print(s_duplicate.index.is_unique)"
   ]
  },
  {
   "cell_type": "markdown",
   "id": "13d45182-3dc7-4d5a-ae9c-9a71625613a4",
   "metadata": {},
   "source": [
    "24.3. Доступ к элементам при повторяющихся индексах."
   ]
  },
  {
   "cell_type": "code",
   "execution_count": 254,
   "id": "bca58841-db7a-430e-88e5-955673db53e3",
   "metadata": {},
   "outputs": [
    {
     "name": "stdout",
     "output_type": "stream",
     "text": [
      "a    10\n",
      "a    30\n",
      "dtype: int64\n"
     ]
    }
   ],
   "source": [
    "print(s_duplicate.loc['a'])"
   ]
  },
  {
   "cell_type": "markdown",
   "id": "490fe4e4-75da-449c-ac6d-0e4297fe9d1a",
   "metadata": {},
   "source": [
    "24.4. Обработка неуникальных индексов."
   ]
  },
  {
   "cell_type": "markdown",
   "id": "c6dc5440-0229-4123-a3dc-89b4b3a3f2de",
   "metadata": {},
   "source": [
    "24.4.1.  Сбросить индекс и создать числовой индекс."
   ]
  },
  {
   "cell_type": "code",
   "execution_count": 258,
   "id": "2dfefb40-a882-4fa1-98ba-13049af0ec37",
   "metadata": {},
   "outputs": [
    {
     "name": "stdout",
     "output_type": "stream",
     "text": [
      "0    10\n",
      "1    20\n",
      "2    30\n",
      "3    40\n",
      "dtype: int64\n"
     ]
    }
   ],
   "source": [
    "s_reset = s_duplicate.reset_index(drop=True)\n",
    "print(s_reset)"
   ]
  },
  {
   "cell_type": "markdown",
   "id": "dcae251d-e6f1-4bb6-a976-c3a4e0f8e3fc",
   "metadata": {},
   "source": [
    "24.4.2. Проебразовать индекс в уникальный, добавив суффиксы."
   ]
  },
  {
   "cell_type": "code",
   "execution_count": 261,
   "id": "ecbea84f-9257-46f6-8be8-cf3c00297cad",
   "metadata": {},
   "outputs": [
    {
     "name": "stdout",
     "output_type": "stream",
     "text": [
      "a_0    10\n",
      "b_1    20\n",
      "a_2    30\n",
      "c_3    40\n",
      "dtype: int64\n"
     ]
    }
   ],
   "source": [
    "s_duplicate.index = [f\"{i}_{n}\" for n, i in\n",
    "enumerate(s_duplicate.index)]\n",
    "print(s_duplicate)"
   ]
  },
  {
   "cell_type": "markdown",
   "id": "fa001b54-21f5-45ee-b85c-29f198ec635f",
   "metadata": {},
   "source": [
    "25. Сортировка данных в Series."
   ]
  },
  {
   "cell_type": "markdown",
   "id": "acfa75d6-f3f4-4aa4-bab4-056a687fa8dc",
   "metadata": {},
   "source": [
    "25.1. Сортировка по индексу с `.sort_index()`.\n",
    "\n",
    "25.1.1. По умолчанию индексы сортируются в **в порядке возрастания**."
   ]
  },
  {
   "cell_type": "code",
   "execution_count": 269,
   "id": "5dd5ce04-03a8-44a0-a0f2-29778385e983",
   "metadata": {},
   "outputs": [
    {
     "name": "stdout",
     "output_type": "stream",
     "text": [
      "a    30\n",
      "b    20\n",
      "c    40\n",
      "d    10\n",
      "dtype: int64\n"
     ]
    }
   ],
   "source": [
    "import pandas as pd\n",
    "s = pd.Series([10, 20, 30, 40], index=['d', 'b', 'a', 'c'])\n",
    "s_sorted = s.sort_index()\n",
    "print(s_sorted)"
   ]
  },
  {
   "cell_type": "markdown",
   "id": "5697afd7-082c-4b2d-8236-6f301323af04",
   "metadata": {},
   "source": [
    "25.1.2. Сортировка в порядке убывания."
   ]
  },
  {
   "cell_type": "code",
   "execution_count": 273,
   "id": "273e2c8b-e86b-4154-a467-cd0f0ddc7e2d",
   "metadata": {},
   "outputs": [
    {
     "name": "stdout",
     "output_type": "stream",
     "text": [
      "d    10\n",
      "c    40\n",
      "b    20\n",
      "a    30\n",
      "dtype: int64\n"
     ]
    }
   ],
   "source": [
    "s_sorted_desc = s.sort_index(ascending=False)\n",
    "print(s_sorted_desc)"
   ]
  },
  {
   "cell_type": "markdown",
   "id": "db5fb348-8620-4a44-874a-df290ca5d429",
   "metadata": {},
   "source": [
    "25.2. Сортировка по значениям с .sort_values().\n",
    "\n",
    "25.2.1. По умолчанию индексы сортируются в в порядке возрастания."
   ]
  },
  {
   "cell_type": "code",
   "execution_count": 277,
   "id": "76bb1296-87df-44e0-a727-01bb39db4358",
   "metadata": {},
   "outputs": [
    {
     "name": "stdout",
     "output_type": "stream",
     "text": [
      "d    10\n",
      "b    20\n",
      "a    30\n",
      "c    40\n",
      "dtype: int64\n"
     ]
    }
   ],
   "source": [
    "s_sorted_values = s.sort_values()\n",
    "print(s_sorted_values)"
   ]
  },
  {
   "cell_type": "markdown",
   "id": "f533011a-daee-4b03-944d-b9c294eec719",
   "metadata": {},
   "source": [
    "25.2.2. Сортировка в порядке убывания."
   ]
  },
  {
   "cell_type": "code",
   "execution_count": 280,
   "id": "6ae66cb1-a13f-4511-8b74-27f50f9465a7",
   "metadata": {},
   "outputs": [
    {
     "name": "stdout",
     "output_type": "stream",
     "text": [
      "c    40\n",
      "a    30\n",
      "b    20\n",
      "d    10\n",
      "dtype: int64\n"
     ]
    }
   ],
   "source": [
    "s_sorted_values_desc = s.sort_values(ascending=False)\n",
    "print(s_sorted_values_desc)"
   ]
  },
  {
   "cell_type": "markdown",
   "id": "b746fa9b-b209-44f5-89b5-692575b59c69",
   "metadata": {},
   "source": [
    "26. Обработка `NaN` при сортировке."
   ]
  },
  {
   "cell_type": "code",
   "execution_count": 283,
   "id": "5197569b-1963-4c2c-9442-9b28d5257021",
   "metadata": {},
   "outputs": [
    {
     "name": "stdout",
     "output_type": "stream",
     "text": [
      "a    10.0\n",
      "e    20.0\n",
      "c    30.0\n",
      "b     NaN\n",
      "d     NaN\n",
      "dtype: float64\n"
     ]
    }
   ],
   "source": [
    "s_nan = pd.Series([10, None, 30, None, 20], index=['a', 'b', 'c', 'd','e'])\n",
    "print(s_nan.sort_values())"
   ]
  },
  {
   "cell_type": "markdown",
   "id": "5161f513-785d-49fa-9bb2-336d8f8169be",
   "metadata": {},
   "source": [
    "26.1. Можно изменить поведение с помощью параметра `na_position`."
   ]
  },
  {
   "cell_type": "code",
   "execution_count": 286,
   "id": "d65b5b19-dd0c-4a9e-821a-296e1adfb0f9",
   "metadata": {},
   "outputs": [
    {
     "name": "stdout",
     "output_type": "stream",
     "text": [
      "b     NaN\n",
      "d     NaN\n",
      "a    10.0\n",
      "e    20.0\n",
      "c    30.0\n",
      "dtype: float64\n"
     ]
    }
   ],
   "source": [
    "print(s_nan.sort_values(na_position='first'))"
   ]
  },
  {
   "cell_type": "markdown",
   "id": "a91f4e1c-d72b-4f86-86de-aaf7f16156e7",
   "metadata": {},
   "source": [
    "27. Применение Series для представления временных рядов."
   ]
  },
  {
   "cell_type": "markdown",
   "id": "87243120-586d-4c86-bbbb-9fc6daffe6e0",
   "metadata": {},
   "source": [
    "27.1. Создание временного ряда в `Series`.\n",
    "\n",
    "Временные ряды строятся с использованием индекса типа `DatetimeIndex`."
   ]
  },
  {
   "cell_type": "code",
   "execution_count": 293,
   "id": "b523d535-4961-4cc0-95c8-4395cda7f8e0",
   "metadata": {},
   "outputs": [
    {
     "name": "stdout",
     "output_type": "stream",
     "text": [
      "2024-03-01    100\n",
      "2024-03-02    105\n",
      "2024-03-03    102\n",
      "2024-03-04     98\n",
      "2024-03-05    110\n",
      "Freq: D, dtype: int64\n"
     ]
    }
   ],
   "source": [
    "import pandas as pd\n",
    "dates = pd.date_range(start='2024-03-01', periods=5, freq='D')\n",
    "s = pd.Series([100, 105, 102, 98, 110], index=dates)\n",
    "print(s)"
   ]
  },
  {
   "cell_type": "markdown",
   "id": "06a58c15-bd16-4c9b-a447-2b926fec04e0",
   "metadata": {},
   "source": [
    "27.2. Доступ к данным по дате."
   ]
  },
  {
   "cell_type": "code",
   "execution_count": 296,
   "id": "6a028589-ac0e-4f42-9a35-899eba6d9b12",
   "metadata": {},
   "outputs": [
    {
     "name": "stdout",
     "output_type": "stream",
     "text": [
      "102\n"
     ]
    }
   ],
   "source": [
    "print(s['2024-03-03'])"
   ]
  },
  {
   "cell_type": "markdown",
   "id": "6bb4db9f-4748-40c8-97c1-0e14522c75e0",
   "metadata": {},
   "source": [
    "27.2.1. Филтрация по диапозону дат."
   ]
  },
  {
   "cell_type": "code",
   "execution_count": 299,
   "id": "4ee19dcc-db67-4705-b4f8-2d85c551370e",
   "metadata": {},
   "outputs": [
    {
     "name": "stdout",
     "output_type": "stream",
     "text": [
      "2024-03-02    105\n",
      "2024-03-03    102\n",
      "2024-03-04     98\n",
      "Freq: D, dtype: int64\n"
     ]
    }
   ],
   "source": [
    "print(s['2024-03-02':'2024-03-04'])"
   ]
  },
  {
   "cell_type": "markdown",
   "id": "9a3e90ce-414d-4f60-9af5-fc245674a5c8",
   "metadata": {},
   "source": [
    "27.3. Создани временного ряда с разной частотой.\n",
    "\n",
    "Метод `pd.date_range()` позволяет задавать различные интервалы временного ряда."
   ]
  },
  {
   "cell_type": "code",
   "execution_count": 305,
   "id": "fea1d12b-f284-451b-9f1a-9f599c91f67c",
   "metadata": {},
   "outputs": [
    {
     "name": "stdout",
     "output_type": "stream",
     "text": [
      "2024-03-01    10\n",
      "2024-03-02    15\n",
      "2024-03-03    12\n",
      "2024-03-04     8\n",
      "2024-03-05    20\n",
      "Freq: D, dtype: int64\n"
     ]
    }
   ],
   "source": [
    "dates = pd.date_range(start='2024-03-01', periods=5)\n",
    "s = pd.Series([10, 15, 12, 8, 20], index=dates)\n",
    "print(s)"
   ]
  },
  {
   "cell_type": "markdown",
   "id": "3e531160-e106-4e1a-8a9b-89b52074511a",
   "metadata": {},
   "source": [
    "27.4. Перевод индекса в формат `Datetime`."
   ]
  },
  {
   "cell_type": "code",
   "execution_count": 308,
   "id": "9ac69b6e-e5f9-4657-8b93-8432e28b9c3b",
   "metadata": {},
   "outputs": [
    {
     "name": "stdout",
     "output_type": "stream",
     "text": [
      "2024-03-01    100\n",
      "2024-03-02    200\n",
      "2024-03-03    150\n",
      "dtype: int64\n"
     ]
    }
   ],
   "source": [
    "s = pd.Series([100, 200, 150], index=['2024-03-01', '2024-03-02',\n",
    "'2024-03-03'])\n",
    "s.index = pd.to_datetime(s.index)\n",
    "print(s)"
   ]
  },
  {
   "cell_type": "markdown",
   "id": "556f1bf3-90c7-4a56-b07a-8bd45e4a98dc",
   "metadata": {},
   "source": [
    "27.5. Операции с временными рядами."
   ]
  },
  {
   "cell_type": "code",
   "execution_count": 311,
   "id": "b091f4cc-4853-4f6c-baef-f7c77dd1697e",
   "metadata": {},
   "outputs": [
    {
     "name": "stdout",
     "output_type": "stream",
     "text": [
      "2024-03-01    100.0\n",
      "2024-03-02    200.0\n",
      "2024-03-03    150.0\n",
      "Freq: D, dtype: float64\n"
     ]
    }
   ],
   "source": [
    "print(s.resample('D').mean())"
   ]
  },
  {
   "cell_type": "markdown",
   "id": "d25eb623-cd95-4b89-ac20-0a4c1b204da9",
   "metadata": {},
   "source": [
    "27.5.1. Фильтрация по году."
   ]
  },
  {
   "cell_type": "code",
   "execution_count": 314,
   "id": "0ea5cded-c710-4d8d-b020-a223d539377d",
   "metadata": {},
   "outputs": [
    {
     "name": "stdout",
     "output_type": "stream",
     "text": [
      "2024-03-01    100\n",
      "2024-03-02    200\n",
      "2024-03-03    150\n",
      "dtype: int64\n"
     ]
    }
   ],
   "source": [
    "print(s[s.index.year == 2024])"
   ]
  },
  {
   "cell_type": "markdown",
   "id": "87ef4523-b14f-4432-9c67-fb6e1ad4aebc",
   "metadata": {},
   "source": [
    "27.5.2. Сдвиг временного ряда."
   ]
  },
  {
   "cell_type": "code",
   "execution_count": 317,
   "id": "33ec2514-4463-43b7-9c5c-809896b996a6",
   "metadata": {},
   "outputs": [
    {
     "name": "stdout",
     "output_type": "stream",
     "text": [
      "2024-03-01      NaN\n",
      "2024-03-02    100.0\n",
      "2024-03-03    200.0\n",
      "dtype: float64\n"
     ]
    }
   ],
   "source": [
    "print(s.shift(1))"
   ]
  },
  {
   "cell_type": "markdown",
   "id": "d908857b-09c2-4f7a-84c0-fa03d63d3df5",
   "metadata": {},
   "source": [
    "27.6. Расчет скользящего среднего.\n",
    "\n",
    "В `pandas.Series`  скользящее среднее вычисляется с помощью метода `.rolling().mean()`.\n",
    "\n",
    "Метод `.rolling(window).mean()` создает окно фиксированной длины (window), внутри которого вычислятеся среднее значение. Окно перемещается по `Series`, обновляя расчеты на каждом шаге."
   ]
  },
  {
   "cell_type": "code",
   "execution_count": 322,
   "id": "c3b9ed06-c0ee-43dc-a0f5-6d47f7e43bd9",
   "metadata": {},
   "outputs": [
    {
     "name": "stdout",
     "output_type": "stream",
     "text": [
      "2024-03-01     NaN\n",
      "2024-03-02     NaN\n",
      "2024-03-03    20.0\n",
      "2024-03-04    30.0\n",
      "2024-03-05    40.0\n",
      "2024-03-06    50.0\n",
      "2024-03-07    60.0\n",
      "Freq: D, dtype: float64\n"
     ]
    }
   ],
   "source": [
    "import pandas as pd\n",
    "s = pd.Series([10, 20, 30, 40, 50, 60, 70], index=pd.date_range(\"2024-03-01\", periods=7, freq=\"D\"))\n",
    "s_ma = s.rolling(window=3).mean()\n",
    "print(s_ma)"
   ]
  },
  {
   "cell_type": "markdown",
   "id": "546ec60f-bbd0-477e-aa2e-186eb3091b84",
   "metadata": {},
   "source": [
    "27.6.2. Выбор длины окна.\n",
    "\n",
    "Чем **больше** размер окна (window), тем **сильнее сглаживание** тренда."
   ]
  },
  {
   "cell_type": "code",
   "execution_count": 325,
   "id": "2fd25919-3c5e-4ebb-8ea9-1e0391e3c647",
   "metadata": {},
   "outputs": [
    {
     "name": "stdout",
     "output_type": "stream",
     "text": [
      "2024-03-01     NaN\n",
      "2024-03-02     NaN\n",
      "2024-03-03     NaN\n",
      "2024-03-04     NaN\n",
      "2024-03-05    30.0\n",
      "2024-03-06    40.0\n",
      "2024-03-07    50.0\n",
      "Freq: D, dtype: float64\n"
     ]
    }
   ],
   "source": [
    "s_ma5 = s.rolling(window=5).mean()\n",
    "print(s_ma5)"
   ]
  },
  {
   "cell_type": "markdown",
   "id": "9d12d1ff-e749-4426-ba19-d91ed3aac430",
   "metadata": {},
   "source": [
    "27.6.3. Скользящее среднее с минимальным количеством значений."
   ]
  },
  {
   "cell_type": "code",
   "execution_count": 328,
   "id": "6b77e116-f806-4723-b71d-65a815015a3a",
   "metadata": {},
   "outputs": [
    {
     "name": "stdout",
     "output_type": "stream",
     "text": [
      "2024-03-01    10.0\n",
      "2024-03-02    15.0\n",
      "2024-03-03    20.0\n",
      "2024-03-04    30.0\n",
      "2024-03-05    40.0\n",
      "2024-03-06    50.0\n",
      "2024-03-07    60.0\n",
      "Freq: D, dtype: float64\n"
     ]
    }
   ],
   "source": [
    "s_ma2 = s.rolling(window=3, min_periods=1).mean()\n",
    "print(s_ma2)"
   ]
  },
  {
   "cell_type": "markdown",
   "id": "9cf284e3-4364-4d52-9e21-7fc25512c6e9",
   "metadata": {},
   "source": [
    "27.6.4.  Построение графика скользящего среднего."
   ]
  },
  {
   "cell_type": "code",
   "execution_count": 331,
   "id": "18c5c68a-1e1d-4401-a46c-d3d38b6a99f0",
   "metadata": {},
   "outputs": [
    {
     "data": {
      "image/png": "[encoded data removed]",
      "text/plain": [
       "<Figure size 800x400 with 1 Axes>"
      ]
     },
     "metadata": {},
     "output_type": "display_data"
    }
   ],
   "source": [
    "import matplotlib.pyplot as plt\n",
    "plt.figure(figsize=(8, 4))\n",
    "plt.plot(s, label=\"Исходные данные\", marker=\"o\")\n",
    "plt.plot(s.rolling(window=3).mean(), label=\"Скользящее среднее (3)\",\n",
    "linestyle=\"--\", color=\"red\")\n",
    "plt.xlabel(\"Дата\")\n",
    "plt.ylabel(\"Значение\")\n",
    "plt.title(\"Скользящее среднее в Series\")\n",
    "plt.legend()\n",
    "plt.grid()\n",
    "plt.show()"
   ]
  },
  {
   "cell_type": "markdown",
   "id": "dcd2f536-5cd5-4acc-8937-8a21f837e31d",
   "metadata": {},
   "source": [
    "28. Процентный прирост.\n",
    "\n",
    "Метод `.pct_change()` вычисляет процентное изменение.\n",
    "\n",
    "Каждое значени показывает насколько процентно изменился текущий элемент относительно предыдущего."
   ]
  },
  {
   "cell_type": "code",
   "execution_count": 342,
   "id": "96f001f5-3506-47da-8067-4c81d59df12a",
   "metadata": {},
   "outputs": [
    {
     "name": "stdout",
     "output_type": "stream",
     "text": [
      "0         NaN\n",
      "1    0.100000\n",
      "2    0.090909\n",
      "3   -0.250000\n",
      "4    0.666667\n",
      "dtype: float64\n"
     ]
    }
   ],
   "source": [
    "import pandas as pd\n",
    "s = pd.Series([100, 110, 120, 90, 150])\n",
    "print(s.pct_change())"
   ]
  },
  {
   "cell_type": "markdown",
   "id": "39d82d44-337e-4628-b905-28d865e98c49",
   "metadata": {},
   "source": [
    "28.1. Процентное изменение в процентах.\n",
    "\n",
    "По умолчанию `.pct_change()` возвращает **долю изменений (0.1 = 10%)**, но можно умножить на 100, чтобы получить проценты."
   ]
  },
  {
   "cell_type": "code",
   "execution_count": 347,
   "id": "02b172de-fc1c-460d-aee2-094f78a823c0",
   "metadata": {},
   "outputs": [
    {
     "name": "stdout",
     "output_type": "stream",
     "text": [
      "0          NaN\n",
      "1    10.000000\n",
      "2     9.090909\n",
      "3   -25.000000\n",
      "4    66.666667\n",
      "dtype: float64\n"
     ]
    }
   ],
   "source": [
    "print(s.pct_change() * 100)"
   ]
  },
  {
   "cell_type": "markdown",
   "id": "48881231-5577-4753-aafc-e11439f06374",
   "metadata": {},
   "source": [
    "28.2. Изменение с другим интервалом (периодом).\n",
    "\n",
    "По умолчанию `.pct_change()` сравнивает каждое значение  с предыдущим (`periods=1`). Можно задать больший шаг (`periods=n`), чтобы вычислить изменение **по сравнению с n шагов назад**."
   ]
  },
  {
   "cell_type": "code",
   "execution_count": 351,
   "id": "9d6b8724-e2cb-496a-84b2-dfe3f1b6adf8",
   "metadata": {},
   "outputs": [
    {
     "name": "stdout",
     "output_type": "stream",
     "text": [
      "0         NaN\n",
      "1         NaN\n",
      "2    0.200000\n",
      "3   -0.181818\n",
      "4    0.250000\n",
      "dtype: float64\n"
     ]
    }
   ],
   "source": [
    "print(s.pct_change(periods=2))"
   ]
  },
  {
   "cell_type": "markdown",
   "id": "0e9a31b3-5c1c-46df-8790-deec8f8b53cb",
   "metadata": {},
   "source": [
    "28.3. Применение `.pct_change()` к временным рядам."
   ]
  },
  {
   "cell_type": "code",
   "execution_count": 354,
   "id": "842fe91d-6130-4c28-a2ac-54f15e832f09",
   "metadata": {},
   "outputs": [
    {
     "data": {
      "image/png": "[encoded data removed]",
      "text/plain": [
       "<Figure size 1000x500 with 1 Axes>"
      ]
     },
     "metadata": {},
     "output_type": "display_data"
    },
    {
     "data": {
      "image/png": "[encoded data removed]",
      "text/plain": [
       "<Figure size 1000x500 with 1 Axes>"
      ]
     },
     "metadata": {},
     "output_type": "display_data"
    }
   ],
   "source": [
    "import numpy as np\n",
    "import matplotlib.pyplot as plt\n",
    "dates = pd.date_range(start=\"2024-01-01\", periods=30, freq=\"D\")\n",
    "prices = pd.Series(np.random.randint(90, 110, size=30), index=dates)\n",
    "returns = prices.pct_change() * 100\n",
    "plt.figure(figsize=(10, 5))\n",
    "plt.plot(prices, label=\"Цена акции\", marker=\"o\")\n",
    "plt.ylabel(\"Цена\")\n",
    "plt.xlabel(\"Дата\")\n",
    "plt.title(\"График цены акции\")\n",
    "plt.figure(figsize=(10, 5))\n",
    "plt.bar(returns.index, returns, color=\"red\", alpha=0.7,\n",
    "label=\"Процентное изменение\")\n",
    "plt.axhline(0, color=\"black\", linestyle=\"--\")\n",
    "plt.ylabel(\"Изменение (%)\")\n",
    "plt.xlabel(\"Дата\")\n",
    "plt.title(\"Процентное изменение цены акции\")\n",
    "plt.legend()\n",
    "plt.show()"
   ]
  },
  {
   "cell_type": "markdown",
   "id": "67b39d33-db1c-4c19-8b5a-133abbc384a5",
   "metadata": {},
   "source": [
    "29. Создание Series на основе данных из внешних файлов."
   ]
  },
  {
   "cell_type": "markdown",
   "id": "3123bc09-d254-4b7e-87af-d898d4c771f4",
   "metadata": {},
   "source": [
    "29.1. Загрузка данных из CSV-файла."
   ]
  },
  {
   "cell_type": "code",
   "execution_count": 368,
   "id": "0e8b65c4-1a05-4fde-9086-8f583dd87f6a",
   "metadata": {},
   "outputs": [
    {
     "name": "stdout",
     "output_type": "stream",
     "text": [
      "0    Цена\n",
      "1     100\n",
      "2     120\n",
      "3     140\n",
      "4     125\n",
      "5     115\n",
      "Name: Цена, dtype: object\n"
     ]
    }
   ],
   "source": [
    "import pandas as pd\n",
    "df = pd.read_csv(\"data.csv\", header=None, names=[\"Дата\", \"Цена\"])\n",
    "s=df[\"Цена\"]\n",
    "print(s)"
   ]
  },
  {
   "cell_type": "markdown",
   "id": "5aec0d65-799d-497d-8da9-1bd885d8235e",
   "metadata": {},
   "source": [
    "29.2. Чтение данных из файла с указанием индекса."
   ]
  },
  {
   "cell_type": "code",
   "execution_count": 397,
   "id": "e7761b38-8fda-4d89-9d49-36c032218a32",
   "metadata": {},
   "outputs": [
    {
     "name": "stdout",
     "output_type": "stream",
     "text": [
      "Дата\n",
      "2024-05-01    100\n",
      "2024-05-02    120\n",
      "2024-05-03    140\n",
      "2024-05-04    125\n",
      "2024-05-05    115\n",
      "Name: Цена, dtype: int64\n"
     ]
    }
   ],
   "source": [
    "s = pd.read_csv(\"data.csv\", index_col=\"Дата\")[\"Цена\"]\n",
    "print(s)"
   ]
  }
 ],
 "metadata": {
  "kernelspec": {
   "display_name": "Python [conda env:base] *",
   "language": "python",
   "name": "conda-base-py"
  },
  "language_info": {
   "codemirror_mode": {
    "name": "ipython",
    "version": 3
   },
   "file_extension": ".py",
   "mimetype": "text/x-python",
   "name": "python",
   "nbconvert_exporter": "python",
   "pygments_lexer": "ipython3",
   "version": "3.12.7"
  }
 },
 "nbformat": 4,
 "nbformat_minor": 5
}
