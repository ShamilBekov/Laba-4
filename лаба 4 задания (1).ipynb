{
 "cells": [
  {
   "cell_type": "markdown",
   "id": "3c142509-3323-4cb3-85bc-32407665973a",
   "metadata": {},
   "source": [
    "## Задания практической работы."
   ]
  },
  {
   "cell_type": "markdown",
   "id": "a5153500-8bb8-4a76-9b96-6762c9d23080",
   "metadata": {},
   "source": [
    "### 1. Создание `Series` из списка.\n",
    "\n",
    "Создайте `Series` из списка чисел `[5,15,25,35,45]` с индексами `['a','b','c','d','e']`. Выведите его на экран и определите его тип данных."
   ]
  },
  {
   "cell_type": "code",
   "execution_count": 50,
   "id": "a1d4f6a4-ed89-4940-99d1-52abc0c77498",
   "metadata": {},
   "outputs": [
    {
     "name": "stdout",
     "output_type": "stream",
     "text": [
      "Массив:\n",
      " a     5\n",
      "b    15\n",
      "c    25\n",
      "d    35\n",
      "e    45\n",
      "dtype: int64\n",
      "\n",
      "Тип данных: int64\n"
     ]
    }
   ],
   "source": [
    "import numpy as np\n",
    "import pandas as pd\n",
    "arr = pd.Series([5, 15, 25, 35, 45], ['a','b','c','d','e'])\n",
    "print(\"Массив:\\n\",arr)\n",
    "print(\"\\nТип данных:\", arr.dtype)"
   ]
  },
  {
   "cell_type": "markdown",
   "id": "8e52eb29-f7b6-46ee-a925-201621da7309",
   "metadata": {},
   "source": [
    "### 2. Получение элемента `Series`.\n",
    "\n",
    "Дан `Series` с индексами `['A','B','C','D','E']` и значениями `[12,24,36,48,60]`. Используйте `.loc[]` для получения элемента с индеком `'C'` и `.iloc[]` для получения третьего элемента."
   ]
  },
  {
   "cell_type": "code",
   "execution_count": 52,
   "id": "71eff5e7-64b3-4da7-953f-b78009d4da2d",
   "metadata": {},
   "outputs": [
    {
     "name": "stdout",
     "output_type": "stream",
     "text": [
      "Элемент с индексом 'C': 36\n",
      "\n",
      "Третий элемент: 36\n"
     ]
    }
   ],
   "source": [
    "A = pd.Series([12,24,36,48,60],['A','B','C','D','E'])\n",
    "print(\"Элемент с индексом 'C':\", A.loc['C'])\n",
    "print(\"\\nТретий элемент:\", A.iloc[2])"
   ]
  },
  {
   "cell_type": "markdown",
   "id": "c05079a5-26e3-4ec2-a3f1-e74855598567",
   "metadata": {},
   "source": [
    "### 3. Фильтрация данных с помощью логической индексации.\n",
    "\n",
    "Создайте `Series` из массива NumPy `np.array([4,9,16,25,36,49,64])`. Выберите только те элементы, которые больше 20, и выведите результат."
   ]
  },
  {
   "cell_type": "code",
   "execution_count": 54,
   "id": "37f8169c-10ce-46aa-a552-eeb053b1b9ff",
   "metadata": {},
   "outputs": [
    {
     "name": "stdout",
     "output_type": "stream",
     "text": [
      "Исходный массив:\n",
      " 0     4\n",
      "1     9\n",
      "2    16\n",
      "3    25\n",
      "4    36\n",
      "5    48\n",
      "6    60\n",
      "dtype: int32\n",
      "\n",
      "Массив с элементами больше 20:\n",
      " 3    25\n",
      "4    36\n",
      "5    48\n",
      "6    60\n",
      "dtype: int32\n"
     ]
    }
   ],
   "source": [
    "B = np.array([4, 9, 16, 25, 36, 48, 60])\n",
    "K = pd.Series(B)\n",
    "print(\"Исходный массив:\\n\",K)\n",
    "F = K[K>20]\n",
    "print(\"\\nМассив с элементами больше 20:\\n\",F)"
   ]
  },
  {
   "cell_type": "markdown",
   "id": "4980154c-6364-47ff-a845-47f89a8956c2",
   "metadata": {},
   "source": [
    "### 4. Просмотр первых и последних элементов.\n",
    "\n",
    "Создайте `Series`, содержащий 50 случайных целых чисел от 1 до 100 (используйте `np.random.radint`). Выведите первые 7 и последние 5 элементов с помощью `.head()` и `tail()`."
   ]
  },
  {
   "cell_type": "code",
   "execution_count": 56,
   "id": "0d4b4c02-ee4a-4493-86b5-0b5c0288844c",
   "metadata": {},
   "outputs": [
    {
     "name": "stdout",
     "output_type": "stream",
     "text": [
      "Первые 7 элементов:\n",
      " 0    51\n",
      "1    72\n",
      "2    47\n",
      "3     4\n",
      "4    68\n",
      "5    25\n",
      "6    74\n",
      "dtype: int32\n",
      "\n",
      "Последние 5 элементов:\n",
      " 45    17\n",
      "46    71\n",
      "47    76\n",
      "48    89\n",
      "49    64\n",
      "dtype: int32\n"
     ]
    }
   ],
   "source": [
    "W = pd.Series(np.random.randint(1, 101, size=50))\n",
    "print(\"Первые 7 элементов:\\n\",W.head(7))\n",
    "print(\"\\nПоследние 5 элементов:\\n\",W.tail(5))"
   ]
  },
  {
   "cell_type": "markdown",
   "id": "0744d936-9890-4cfb-8188-13a2074c35a9",
   "metadata": {},
   "source": [
    "### 5. Определение типа данных `Series`.\n",
    "\n",
    "Создайте `Series` из списка `['cat','dog','rabbit','parrot','fish']`. Определите тип данных с помощью `.dtype`, затем преобразуйте его в `category` с помощью `.astype()`."
   ]
  },
  {
   "cell_type": "code",
   "execution_count": 58,
   "id": "a3b560b4-d2af-4149-ad07-5e1fa67e0a08",
   "metadata": {},
   "outputs": [
    {
     "name": "stdout",
     "output_type": "stream",
     "text": [
      "Тип данных до преобразования: object\n",
      "Тип данных после преобразования: category\n"
     ]
    }
   ],
   "source": [
    "animals = pd.Series(['cat', 'dog', 'rabbit', 'parrot', 'fish'])\n",
    "print(\"Тип данных до преобразования:\", animals.dtype)\n",
    "animals = animals.astype('category')\n",
    "print(\"Тип данных после преобразования:\", animals.dtype)"
   ]
  },
  {
   "cell_type": "markdown",
   "id": "c3cb6b11-f464-4593-9229-f66b3d7a55aa",
   "metadata": {},
   "source": [
    "### 6. Проверка пропущенных значений.\n",
    "\n",
    "Создайте `Series` с данными `[1.2, np.nan, 3.4, np.nan, 5.6, 6.8]`. Напишите код, которые проверяет, есть ли в `Series` пропущенные значения (`NaN`), и выведите индексы таких элементов."
   ]
  },
  {
   "cell_type": "code",
   "execution_count": 60,
   "id": "135f0b70-a421-4272-9629-d33d8fa286dd",
   "metadata": {},
   "outputs": [
    {
     "name": "stdout",
     "output_type": "stream",
     "text": [
      "Исходный массив:\n",
      " 0    1.2\n",
      "1    NaN\n",
      "2    3.4\n",
      "3    NaN\n",
      "4    5.6\n",
      "5    6.8\n",
      "dtype: float64\n",
      "\n",
      "Индексы пропущенных значений:  [1, 3]\n"
     ]
    }
   ],
   "source": [
    "nan = pd.Series([1.2, np.nan, 3.4, np.nan, 5.6, 6.8])\n",
    "print(\"Исходный массив:\\n\",nan)\n",
    "filtered_nan = nan[nan.isna()].index\n",
    "print(\"\\nИндексы пропущенных значений: \",list(filtered_nan))"
   ]
  },
  {
   "cell_type": "markdown",
   "id": "8e5671e2-ce2c-463e-9c39-501775eab9a3",
   "metadata": {},
   "source": [
    "### 7. Заполнение пропущенных значений.\n",
    "\n",
    "Используйте `Series` из предыдущего задания и замените все `NaN` на среднее значение всех непустых элементов. Выведите результат."
   ]
  },
  {
   "cell_type": "code",
   "execution_count": 62,
   "id": "ed9641bf-5b0a-4322-9e7b-83e63d608cce",
   "metadata": {},
   "outputs": [
    {
     "name": "stdout",
     "output_type": "stream",
     "text": [
      "Исходный массив:\n",
      " 0    1.2\n",
      "1    NaN\n",
      "2    3.4\n",
      "3    NaN\n",
      "4    5.6\n",
      "5    6.8\n",
      "dtype: float64\n",
      "\n",
      "Среднее значение всех непустых элементов:  4.25\n",
      "\n",
      "Массив с замененными NaN на среднее значение всех непустых элементов:\n",
      " 0    1.20\n",
      "1    4.25\n",
      "2    3.40\n",
      "3    4.25\n",
      "4    5.60\n",
      "5    6.80\n",
      "dtype: float64\n"
     ]
    }
   ],
   "source": [
    "nan = pd.Series([1.2, np.nan, 3.4, np.nan, 5.6, 6.8])\n",
    "print(\"Исходный массив:\\n\",nan)\n",
    "average = nan.mean()\n",
    "print(\"\\nСреднее значение всех непустых элементов: \",average)\n",
    "filtered_nan = nan.fillna(average)\n",
    "print(\"\\nМассив с замененными NaN на среднее значение всех непустых элементов:\\n\",filtered_nan)"
   ]
  },
  {
   "cell_type": "markdown",
   "id": "ca8a36e9-6808-4690-86da-d2388d65aa70",
   "metadata": {},
   "source": [
    "### 8. Арифметические операции с `Series`.\n",
    "\n",
    "Создайте два `Series`:\n",
    "- `s1=pd.Series([10, 20, 30, 40], index=['a', 'b', 'c', 'd'])`\n",
    "- `s2 = pd.Series([5, 15, 25, 35], index=['b', 'c', 'd', 'e'])`\n",
    "\n",
    "Выполните сложение `s1 + s2`. Объясните, почему в результате появляются NaN , и замените их на `0`."
   ]
  },
  {
   "cell_type": "code",
   "execution_count": 64,
   "id": "8c4c1372-5902-4394-abe3-731ffd290b14",
   "metadata": {},
   "outputs": [
    {
     "name": "stdout",
     "output_type": "stream",
     "text": [
      "Массив после сложения элементов:\n",
      " a     NaN\n",
      "b    25.0\n",
      "c    45.0\n",
      "d    65.0\n",
      "e     NaN\n",
      "dtype: float64\n",
      "\n",
      "Массив после замены NaN на 0:\n",
      " a     0.0\n",
      "b    25.0\n",
      "c    45.0\n",
      "d    65.0\n",
      "e     0.0\n",
      "dtype: float64\n",
      "\n",
      "В результате сложения мы получили NaN, т.к операция сложения выполняется по индексам,\n",
      " поскольку индекс 'a' и 'e' отсутствовали в первом и втором массиве соответственно, они получили значение NaN.\n"
     ]
    }
   ],
   "source": [
    "s1 = pd.Series([10,20,30,40], index=['a','b','c','d'])\n",
    "s2 = pd.Series([5,15,25,35], index=['b','c','d','e'])\n",
    "s3 = s1+s2\n",
    "print(\"Массив после сложения элементов:\\n\",s3)\n",
    "s4 = s3.fillna(0)\n",
    "print(\"\\nМассив после замены NaN на 0:\\n\", s4)\n",
    "print(\"\\nВ результате сложения мы получили NaN, т.к операция сложения выполняется по индексам,\\n поскольку индекс 'a' и 'e' отсутствовали в первом и втором массиве соответственно, они получили значение NaN.\")"
   ]
  },
  {
   "cell_type": "markdown",
   "id": "9ea1817e-71ef-4f8c-ae8f-85a7002f0423",
   "metadata": {},
   "source": [
    "### 9. Применение функции к `Series`.\n",
    "\n",
    "Создайте `Series` из чисел `[2, 4, 6, 8, 10]`. Напишите код, который применяет к каждому элементу функцию вычисления квадратного корня с помощью `.apply(np.sqrt)`."
   ]
  },
  {
   "cell_type": "code",
   "execution_count": 66,
   "id": "bdde75e7-78b8-418f-908b-b9a18ec7662b",
   "metadata": {},
   "outputs": [
    {
     "name": "stdout",
     "output_type": "stream",
     "text": [
      "Исходный массив:\n",
      " 0     2\n",
      "1     4\n",
      "2     6\n",
      "3     8\n",
      "4    10\n",
      "dtype: int64\n",
      "\n",
      "Массив после вычисления квадратного корня для каждого элемента:\n",
      " 0    1.414214\n",
      "1    2.000000\n",
      "2    2.449490\n",
      "3    2.828427\n",
      "4    3.162278\n",
      "dtype: float64\n"
     ]
    }
   ],
   "source": [
    "s = pd.Series([2, 4, 6, 8, 10])\n",
    "print(\"Исходный массив:\\n\",s)\n",
    "s_sqrt = s.apply(np.sqrt)\n",
    "print(\"\\nМассив после вычисления квадратного корня для каждого элемента:\\n\",s_sqrt)"
   ]
  },
  {
   "cell_type": "markdown",
   "id": "b39935c4-89a4-4e92-a3c2-03653e5143ea",
   "metadata": {},
   "source": [
    "### 10. Основные статистические методы.\n",
    "\n",
    "Создайте `Series` из 20 случайных чисел от 50 до 150 (используйте `np.random.randint`). Найдите сумму, среднее, минимальное и максимальное значение. Выведите также стандартное отклонение."
   ]
  },
  {
   "cell_type": "code",
   "execution_count": 68,
   "id": "5b2ad2ca-af25-4c25-ae4c-d898c4f7a0db",
   "metadata": {},
   "outputs": [
    {
     "name": "stdout",
     "output_type": "stream",
     "text": [
      "Массив:\n",
      " 0      69\n",
      "1     109\n",
      "2     107\n",
      "3     109\n",
      "4      77\n",
      "5      70\n",
      "6      55\n",
      "7      77\n",
      "8      99\n",
      "9     126\n",
      "10     77\n",
      "11     74\n",
      "12     89\n",
      "13     58\n",
      "14     73\n",
      "15     96\n",
      "16     95\n",
      "17    110\n",
      "18    139\n",
      "19     67\n",
      "dtype: int32\n",
      "\n",
      "Сумма элементов: 1776\n",
      "\n",
      "Среднее значение: 88.8\n",
      "\n",
      "Минимальное значение: 55\n",
      "\n",
      "Максимальное значение: 139\n",
      "\n",
      "Стандратное отклонение: 22.818736530362614\n",
      "\n",
      " count     20.000000\n",
      "mean      88.800000\n",
      "std       22.818737\n",
      "min       55.000000\n",
      "25%       72.250000\n",
      "50%       83.000000\n",
      "75%      107.500000\n",
      "max      139.000000\n",
      "dtype: float64\n"
     ]
    }
   ],
   "source": [
    "a = pd.Series(np.random.randint(50, 151, size=20))\n",
    "print(\"Массив:\\n\",a)\n",
    "print(\"\\nСумма элементов:\", a.sum())\n",
    "print(\"\\nСреднее значение:\", a.mean())\n",
    "print(\"\\nМинимальное значение:\", a.min())\n",
    "print(\"\\nМаксимальное значение:\", a.max())\n",
    "print(\"\\nСтандратное отклонение:\", a.std())\n",
    "print(\"\\n\",a.describe())"
   ]
  },
  {
   "cell_type": "markdown",
   "id": "1f0494ec-e44c-40ac-931a-57d4672b1ca2",
   "metadata": {},
   "source": [
    "### 11. Работа с временными рядами.\n",
    "\n",
    "Создайте `Series`, где индексами будут даты с 1 по 10 марта 2024 года (`pd.date_range(start='2024-03-01', periods=10, freq='D')`), а значениями - случайные числа от 10 до 100. Выберите данные за 5-8 марта."
   ]
  },
  {
   "cell_type": "code",
   "execution_count": 70,
   "id": "bdfd01e7-f53d-40a8-a88e-0005108bceca",
   "metadata": {},
   "outputs": [
    {
     "name": "stdout",
     "output_type": "stream",
     "text": [
      "Исходные данные:\n",
      " 2024-03-01    59\n",
      "2024-03-02    10\n",
      "2024-03-03    71\n",
      "2024-03-04    55\n",
      "2024-03-05    69\n",
      "2024-03-06    96\n",
      "2024-03-07    17\n",
      "2024-03-08    68\n",
      "2024-03-09    45\n",
      "2024-03-10    42\n",
      "Freq: D, dtype: int32\n",
      "\n",
      "Данные за 5-8 марта:\n",
      " 2024-03-05    69\n",
      "2024-03-06    96\n",
      "2024-03-07    17\n",
      "2024-03-08    68\n",
      "Freq: D, dtype: int32\n"
     ]
    }
   ],
   "source": [
    "date = pd.date_range(start='2024-03-01', periods=10, freq='D')\n",
    "values = np.random.randint(10, 101, size=10)\n",
    "d = pd.Series(values, index=date)\n",
    "date_new = d['2024-03-05':'2024-03-08']\n",
    "print(\"Исходные данные:\\n\", d)\n",
    "print(\"\\nДанные за 5-8 марта:\\n\", date_new)"
   ]
  },
  {
   "cell_type": "markdown",
   "id": "3bfd442f-451f-4d93-8094-1bb64108f167",
   "metadata": {},
   "source": [
    "### 12. Проверка уникальности индексов.\n",
    "\n",
    "Создайте Series с индексами `['A', 'B', 'A', 'C', 'D', 'B']` и значениями `[10, 20, 30, 40, 50, 60]`. Проверьте, являются ли индексы уникальными. Если нет, сгруппируйте повторяющиеся индексы и сложите их значения."
   ]
  },
  {
   "cell_type": "code",
   "execution_count": 72,
   "id": "970fc971-d77b-4fa2-b543-944a9c7e3663",
   "metadata": {},
   "outputs": [
    {
     "name": "stdout",
     "output_type": "stream",
     "text": [
      "Исходный массив:\n",
      " A    10\n",
      "B    20\n",
      "A    30\n",
      "C    40\n",
      "D    50\n",
      "B    60\n",
      "dtype: int64\n",
      "\n",
      "Проверка уникальности индексов: False\n",
      "\n",
      "Массив после группировки:\n",
      " A    40\n",
      "B    80\n",
      "C    40\n",
      "D    50\n",
      "dtype: int64\n"
     ]
    }
   ],
   "source": [
    "s = pd.Series([10, 20, 30, 40, 50, 60], ['A','B','A','C','D','B'])\n",
    "print(\"Исходный массив:\\n\",s)\n",
    "print(\"\\nПроверка уникальности индексов:\",s.index.is_unique)\n",
    "s = s.groupby(level=0).sum()\n",
    "print(\"\\nМассив после группировки:\\n\",s)"
   ]
  },
  {
   "cell_type": "markdown",
   "id": "29c385aa-c5b4-4090-9c8a-72fe8530b4b4",
   "metadata": {},
   "source": [
    "### 13. Преобразование строковых дат в `DatetimeIndex`.\n",
    "\n",
    "Создайте Series , где индексами будут строки `['2024-03-10', '2024-03 11','2024-03-12']`, а значениями `[100, 200, 300]`. Преобразуйте индексы в `DatetimeIndex` и выведите тип данных индекса."
   ]
  },
  {
   "cell_type": "code",
   "execution_count": 74,
   "id": "bde84273-77db-401f-a2f6-1c6fe40e7635",
   "metadata": {},
   "outputs": [
    {
     "name": "stdout",
     "output_type": "stream",
     "text": [
      "Тип данных индекса до преобразования: object\n",
      "\n",
      "Тип данных индекса после преобразования: datetime64[ns]\n"
     ]
    }
   ],
   "source": [
    "s = pd.Series([100, 200, 300], index=['2024-03-10','2024-03-11','2024-03-12'])\n",
    "print(\"Тип данных индекса до преобразования:\",s.index.dtype)\n",
    "s.index = pd.to_datetime(s.index)\n",
    "print(\"\\nТип данных индекса после преобразования:\",s.index.dtype)"
   ]
  },
  {
   "cell_type": "markdown",
   "id": "0c2171e9-699b-4dc8-a774-fbac8cd6d6ae",
   "metadata": {},
   "source": [
    "### 14. Чтение данных из CSV-файла.\n",
    "\n",
    "Создайте CSV-файл `data.csv`. Прочитайте файл и создайте `Series`, используя `\"Дата\"` в качестве индекса."
   ]
  },
  {
   "cell_type": "code",
   "execution_count": 76,
   "id": "524c16bc-625b-4ea9-9750-6abf8b4ab554",
   "metadata": {},
   "outputs": [
    {
     "name": "stdout",
     "output_type": "stream",
     "text": [
      "Дата\n",
      "2024-03-01    100\n",
      "2024-03-02    110\n",
      "2024-03-03    105\n",
      "2024-03-04    120\n",
      "2024-03-05    115\n",
      "dtype: int64\n"
     ]
    }
   ],
   "source": [
    "data = {\n",
    "    'Дата': ['2024-03-01', '2024-03-02', '2024-03-03', '2024-03-04', '2024-03-05'],\n",
    "    'Цена': [100, 110, 105, 120, 115]\n",
    "}\n",
    "df = pd.DataFrame(data)\n",
    "df.to_csv('data.csv', index=False)\n",
    "df = pd.read_csv('data.csv', parse_dates=['Дата'])\n",
    "s = pd.Series(df['Цена'].values, index=df['Дата'])\n",
    "print(s)"
   ]
  },
  {
   "cell_type": "markdown",
   "id": "86457a9c-057b-49bd-9c38-98e16945dc63",
   "metadata": {},
   "source": [
    "### 15. Построение графика на основе `Series`.\n",
    "\n",
    "Создайте `Series`, где индексами будут даты с 1 по 30 марта 2024 года, а значениями - случайные числа от 50 до 150. Постройте график значений с помощью `matplotlib`. Добавьте заголовок подписи осей и сетку."
   ]
  },
  {
   "cell_type": "code",
   "execution_count": 21,
   "id": "8711dd42-25b9-4e7b-80f6-104bfe66fbe8",
   "metadata": {},
   "outputs": [
    {
     "data": {
      "image/png": "[encoded data removed]",
      "text/plain": [
       "<Figure size 640x480 with 1 Axes>"
      ]
     },
     "metadata": {},
     "output_type": "display_data"
    }
   ],
   "source": [
    "import matplotlib.pyplot as plt\n",
    "s = pd.Series(np.random.uniform(50,150,size=30),index=pd.date_range(start='2024-03-01', periods=30, freq='D'))\n",
    "s.plot(kind='bar',color='blue')\n",
    "plt.title('Продажи (март 2025)')\n",
    "plt.xlabel('Дата')\n",
    "plt.ylabel('Выручка (тыс. рублей)')\n",
    "plt.grid()\n",
    "plt.show()"
   ]
  },
  {
   "cell_type": "markdown",
   "id": "9dce973b-bc8e-42ee-a479-f461728dfabe",
   "metadata": {},
   "source": [
    "# Индивидуальные практические задания."
   ]
  },
  {
   "cell_type": "markdown",
   "id": "b7f0eb3d-92f7-4773-b6a5-95dd7611b10f",
   "metadata": {},
   "source": [
    "### 5. Преобразование и анализ погодных данных.\n",
    "\n",
    "Создайте `Series`, где индексами будут даты с 10 по 20 марта 2024 года, а значениями – случайные температуры от -5 до +10 градусов. Выделите данные за 15-17 марта, преобразуйте индекс в `DatetimeIndex`, а затем постройте график температуры."
   ]
  },
  {
   "cell_type": "code",
   "execution_count": 18,
   "id": "a3a8c910-ea95-4d46-9b30-311eac36444b",
   "metadata": {},
   "outputs": [
    {
     "name": "stdout",
     "output_type": "stream",
     "text": [
      "Исходный Series:\n",
      "2024-03-10    3.135649\n",
      "2024-03-11    4.147180\n",
      "2024-03-12    9.112508\n",
      "2024-03-13    3.484698\n",
      "2024-03-14    9.511020\n",
      "2024-03-15    2.166255\n",
      "2024-03-16   -2.307010\n",
      "2024-03-17    7.240249\n",
      "2024-03-18    2.971627\n",
      "2024-03-19   -2.867183\n",
      "2024-03-20   -2.922918\n",
      "Freq: D, dtype: float64\n",
      "\n",
      "Данные за 15-17 марта:\n",
      "2024-03-15    2.166255\n",
      "2024-03-16   -2.307010\n",
      "2024-03-17    7.240249\n",
      "Freq: D, dtype: float64\n"
     ]
    },
    {
     "data": {
      "image/png": "[encoded data removed]",
      "text/plain": [
       "<Figure size 1000x600 with 1 Axes>"
      ]
     },
     "metadata": {},
     "output_type": "display_data"
    }
   ],
   "source": [
    "import pandas as pd\n",
    "import numpy as np\n",
    "import matplotlib.pyplot as plt\n",
    "\n",
    "s = pd.Series(np.random.uniform(-5, 10, size=11),index=pd.date_range(start='2024-03-10', end='2024-03-20', freq='D'))\n",
    "\n",
    "print(\"Исходный Series:\")\n",
    "print(s)\n",
    "\n",
    "subset = s['2024-03-15':'2024-03-17']\n",
    "\n",
    "print(\"\\nДанные за 15-17 марта:\")\n",
    "print(subset)\n",
    "\n",
    "s.index = pd.to_datetime(s.index)\n",
    "subset.index = pd.to_datetime(subset.index)\n",
    "\n",
    "plt.figure(figsize=(10, 6))\n",
    "plt.plot(s.index, s.values, marker='o', linestyle='-')\n",
    "plt.plot(subset.index, subset.values, marker='o', linestyle='-', color='red', linewidth=2, label='15-17 March')\n",
    "plt.title(\"Температура в марте 2024\")\n",
    "plt.xlabel(\"Дата\")\n",
    "plt.ylabel(\"Температура (°C)\")\n",
    "plt.grid(True)\n",
    "plt.legend()\n",
    "plt.show()"
   ]
  }
 ],
 "metadata": {
  "kernelspec": {
   "display_name": "Python [conda env:base] *",
   "language": "python",
   "name": "conda-base-py"
  },
  "language_info": {
   "codemirror_mode": {
    "name": "ipython",
    "version": 3
   },
   "file_extension": ".py",
   "mimetype": "text/x-python",
   "name": "python",
   "nbconvert_exporter": "python",
   "pygments_lexer": "ipython3",
   "version": "3.12.7"
  }
 },
 "nbformat": 4,
 "nbformat_minor": 5
}
